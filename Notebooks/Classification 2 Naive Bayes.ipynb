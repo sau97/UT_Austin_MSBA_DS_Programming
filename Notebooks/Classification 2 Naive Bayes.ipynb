{
 "cells": [
  {
   "cell_type": "markdown",
   "metadata": {
    "slideshow": {
     "slide_type": "slide"
    }
   },
   "source": [
    "# Classification 2"
   ]
  },
  {
   "cell_type": "markdown",
   "metadata": {},
   "source": [
    "We will look at the Naive Bayes classifier.\n",
    "\n",
    "* Only slightly more complicated than nearest-neighbors in terms of parameter fitting\n",
    "* Scales to large datasets easily\n",
    "* Works best when features are _independent_"
   ]
  },
  {
   "cell_type": "markdown",
   "metadata": {
    "slideshow": {
     "slide_type": "slide"
    }
   },
   "source": [
    "## Income Prediction\n",
    "\n",
    "This data was extracted from a census bureau dataset. It contains several features about individuals: their age, working status, education level, marital status, etc. The goal is to predict if the individual makes more or less than 50K per year.\n",
    "\n",
    "See [here](https://archive.ics.uci.edu/ml/machine-learning-databases/adult/adult.names \"Adult names\") for details."
   ]
  },
  {
   "cell_type": "code",
   "execution_count": 1,
   "metadata": {
    "slideshow": {
     "slide_type": "slide"
    }
   },
   "outputs": [
    {
     "name": "stdout",
     "output_type": "stream",
     "text": [
      "Populating the interactive namespace from numpy and matplotlib\n"
     ]
    }
   ],
   "source": [
    "from pandas import Series, DataFrame\n",
    "import pandas as pd\n",
    "from patsy import dmatrices\n",
    "%pylab inline"
   ]
  },
  {
   "cell_type": "code",
   "execution_count": 2,
   "metadata": {},
   "outputs": [],
   "source": [
    "# We will ignore some silly warnings that pop up due to scikit-learn\n",
    "import warnings\n",
    "warnings.filterwarnings('ignore')"
   ]
  },
  {
   "cell_type": "code",
   "execution_count": 3,
   "metadata": {
    "slideshow": {
     "slide_type": "fragment"
    }
   },
   "outputs": [
    {
     "data": {
      "text/html": [
       "<div>\n",
       "<style scoped>\n",
       "    .dataframe tbody tr th:only-of-type {\n",
       "        vertical-align: middle;\n",
       "    }\n",
       "\n",
       "    .dataframe tbody tr th {\n",
       "        vertical-align: top;\n",
       "    }\n",
       "\n",
       "    .dataframe thead th {\n",
       "        text-align: right;\n",
       "    }\n",
       "</style>\n",
       "<table border=\"1\" class=\"dataframe\">\n",
       "  <thead>\n",
       "    <tr style=\"text-align: right;\">\n",
       "      <th></th>\n",
       "      <th>age</th>\n",
       "      <th>workclass</th>\n",
       "      <th>fnlwgt</th>\n",
       "      <th>education</th>\n",
       "      <th>education_num</th>\n",
       "      <th>marital_status</th>\n",
       "      <th>occupation</th>\n",
       "      <th>relationship</th>\n",
       "      <th>race</th>\n",
       "      <th>sex</th>\n",
       "      <th>capital_gain</th>\n",
       "      <th>capital_loss</th>\n",
       "      <th>hours_per_week</th>\n",
       "      <th>native_country</th>\n",
       "      <th>income_band</th>\n",
       "    </tr>\n",
       "  </thead>\n",
       "  <tbody>\n",
       "    <tr>\n",
       "      <th>0</th>\n",
       "      <td>39</td>\n",
       "      <td>State-gov</td>\n",
       "      <td>77516</td>\n",
       "      <td>Bachelors</td>\n",
       "      <td>13</td>\n",
       "      <td>Never-married</td>\n",
       "      <td>Adm-clerical</td>\n",
       "      <td>Not-in-family</td>\n",
       "      <td>White</td>\n",
       "      <td>Male</td>\n",
       "      <td>2174</td>\n",
       "      <td>0</td>\n",
       "      <td>40</td>\n",
       "      <td>United-States</td>\n",
       "      <td>&lt;=50K</td>\n",
       "    </tr>\n",
       "    <tr>\n",
       "      <th>1</th>\n",
       "      <td>50</td>\n",
       "      <td>Self-emp-not-inc</td>\n",
       "      <td>83311</td>\n",
       "      <td>Bachelors</td>\n",
       "      <td>13</td>\n",
       "      <td>Married-civ-spouse</td>\n",
       "      <td>Exec-managerial</td>\n",
       "      <td>Husband</td>\n",
       "      <td>White</td>\n",
       "      <td>Male</td>\n",
       "      <td>0</td>\n",
       "      <td>0</td>\n",
       "      <td>13</td>\n",
       "      <td>United-States</td>\n",
       "      <td>&lt;=50K</td>\n",
       "    </tr>\n",
       "    <tr>\n",
       "      <th>2</th>\n",
       "      <td>38</td>\n",
       "      <td>Private</td>\n",
       "      <td>215646</td>\n",
       "      <td>HS-grad</td>\n",
       "      <td>9</td>\n",
       "      <td>Divorced</td>\n",
       "      <td>Handlers-cleaners</td>\n",
       "      <td>Not-in-family</td>\n",
       "      <td>White</td>\n",
       "      <td>Male</td>\n",
       "      <td>0</td>\n",
       "      <td>0</td>\n",
       "      <td>40</td>\n",
       "      <td>United-States</td>\n",
       "      <td>&lt;=50K</td>\n",
       "    </tr>\n",
       "    <tr>\n",
       "      <th>3</th>\n",
       "      <td>53</td>\n",
       "      <td>Private</td>\n",
       "      <td>234721</td>\n",
       "      <td>11th</td>\n",
       "      <td>7</td>\n",
       "      <td>Married-civ-spouse</td>\n",
       "      <td>Handlers-cleaners</td>\n",
       "      <td>Husband</td>\n",
       "      <td>Black</td>\n",
       "      <td>Male</td>\n",
       "      <td>0</td>\n",
       "      <td>0</td>\n",
       "      <td>40</td>\n",
       "      <td>United-States</td>\n",
       "      <td>&lt;=50K</td>\n",
       "    </tr>\n",
       "    <tr>\n",
       "      <th>4</th>\n",
       "      <td>28</td>\n",
       "      <td>Private</td>\n",
       "      <td>338409</td>\n",
       "      <td>Bachelors</td>\n",
       "      <td>13</td>\n",
       "      <td>Married-civ-spouse</td>\n",
       "      <td>Prof-specialty</td>\n",
       "      <td>Wife</td>\n",
       "      <td>Black</td>\n",
       "      <td>Female</td>\n",
       "      <td>0</td>\n",
       "      <td>0</td>\n",
       "      <td>40</td>\n",
       "      <td>Cuba</td>\n",
       "      <td>&lt;=50K</td>\n",
       "    </tr>\n",
       "  </tbody>\n",
       "</table>\n",
       "</div>"
      ],
      "text/plain": [
       "   age         workclass  fnlwgt  education  education_num  \\\n",
       "0   39         State-gov   77516  Bachelors             13   \n",
       "1   50  Self-emp-not-inc   83311  Bachelors             13   \n",
       "2   38           Private  215646    HS-grad              9   \n",
       "3   53           Private  234721       11th              7   \n",
       "4   28           Private  338409  Bachelors             13   \n",
       "\n",
       "       marital_status         occupation   relationship   race     sex  \\\n",
       "0       Never-married       Adm-clerical  Not-in-family  White    Male   \n",
       "1  Married-civ-spouse    Exec-managerial        Husband  White    Male   \n",
       "2            Divorced  Handlers-cleaners  Not-in-family  White    Male   \n",
       "3  Married-civ-spouse  Handlers-cleaners        Husband  Black    Male   \n",
       "4  Married-civ-spouse     Prof-specialty           Wife  Black  Female   \n",
       "\n",
       "   capital_gain  capital_loss  hours_per_week native_country income_band  \n",
       "0          2174             0              40  United-States       <=50K  \n",
       "1             0             0              13  United-States       <=50K  \n",
       "2             0             0              40  United-States       <=50K  \n",
       "3             0             0              40  United-States       <=50K  \n",
       "4             0             0              40           Cuba       <=50K  "
      ]
     },
     "execution_count": 3,
     "metadata": {},
     "output_type": "execute_result"
    }
   ],
   "source": [
    "names = ['age', 'workclass', 'fnlwgt', 'education', 'education_num', 'marital_status', \\\n",
    "         'occupation', 'relationship', 'race', 'sex', 'capital_gain', 'capital_loss', \\\n",
    "         'hours_per_week', 'native_country', 'income_band']\n",
    "df = pd.read_csv('Classification_2_data/adult.data', sep=', ', names=names)\n",
    "df[:5]"
   ]
  },
  {
   "cell_type": "code",
   "execution_count": 4,
   "metadata": {
    "slideshow": {
     "slide_type": "slide"
    }
   },
   "outputs": [
    {
     "data": {
      "text/html": [
       "<div>\n",
       "<style scoped>\n",
       "    .dataframe tbody tr th:only-of-type {\n",
       "        vertical-align: middle;\n",
       "    }\n",
       "\n",
       "    .dataframe tbody tr th {\n",
       "        vertical-align: top;\n",
       "    }\n",
       "\n",
       "    .dataframe thead th {\n",
       "        text-align: right;\n",
       "    }\n",
       "</style>\n",
       "<table border=\"1\" class=\"dataframe\">\n",
       "  <thead>\n",
       "    <tr style=\"text-align: right;\">\n",
       "      <th></th>\n",
       "      <th>age</th>\n",
       "      <th>fnlwgt</th>\n",
       "      <th>education_num</th>\n",
       "      <th>capital_gain</th>\n",
       "      <th>capital_loss</th>\n",
       "      <th>hours_per_week</th>\n",
       "    </tr>\n",
       "  </thead>\n",
       "  <tbody>\n",
       "    <tr>\n",
       "      <th>count</th>\n",
       "      <td>32561.000000</td>\n",
       "      <td>3.256100e+04</td>\n",
       "      <td>32561.000000</td>\n",
       "      <td>32561.000000</td>\n",
       "      <td>32561.000000</td>\n",
       "      <td>32561.000000</td>\n",
       "    </tr>\n",
       "    <tr>\n",
       "      <th>mean</th>\n",
       "      <td>38.581647</td>\n",
       "      <td>1.897784e+05</td>\n",
       "      <td>10.080679</td>\n",
       "      <td>1077.648844</td>\n",
       "      <td>87.303830</td>\n",
       "      <td>40.437456</td>\n",
       "    </tr>\n",
       "    <tr>\n",
       "      <th>std</th>\n",
       "      <td>13.640433</td>\n",
       "      <td>1.055500e+05</td>\n",
       "      <td>2.572720</td>\n",
       "      <td>7385.292085</td>\n",
       "      <td>402.960219</td>\n",
       "      <td>12.347429</td>\n",
       "    </tr>\n",
       "    <tr>\n",
       "      <th>min</th>\n",
       "      <td>17.000000</td>\n",
       "      <td>1.228500e+04</td>\n",
       "      <td>1.000000</td>\n",
       "      <td>0.000000</td>\n",
       "      <td>0.000000</td>\n",
       "      <td>1.000000</td>\n",
       "    </tr>\n",
       "    <tr>\n",
       "      <th>25%</th>\n",
       "      <td>28.000000</td>\n",
       "      <td>1.178270e+05</td>\n",
       "      <td>9.000000</td>\n",
       "      <td>0.000000</td>\n",
       "      <td>0.000000</td>\n",
       "      <td>40.000000</td>\n",
       "    </tr>\n",
       "    <tr>\n",
       "      <th>50%</th>\n",
       "      <td>37.000000</td>\n",
       "      <td>1.783560e+05</td>\n",
       "      <td>10.000000</td>\n",
       "      <td>0.000000</td>\n",
       "      <td>0.000000</td>\n",
       "      <td>40.000000</td>\n",
       "    </tr>\n",
       "    <tr>\n",
       "      <th>75%</th>\n",
       "      <td>48.000000</td>\n",
       "      <td>2.370510e+05</td>\n",
       "      <td>12.000000</td>\n",
       "      <td>0.000000</td>\n",
       "      <td>0.000000</td>\n",
       "      <td>45.000000</td>\n",
       "    </tr>\n",
       "    <tr>\n",
       "      <th>max</th>\n",
       "      <td>90.000000</td>\n",
       "      <td>1.484705e+06</td>\n",
       "      <td>16.000000</td>\n",
       "      <td>99999.000000</td>\n",
       "      <td>4356.000000</td>\n",
       "      <td>99.000000</td>\n",
       "    </tr>\n",
       "  </tbody>\n",
       "</table>\n",
       "</div>"
      ],
      "text/plain": [
       "                age        fnlwgt  education_num  capital_gain  capital_loss  \\\n",
       "count  32561.000000  3.256100e+04   32561.000000  32561.000000  32561.000000   \n",
       "mean      38.581647  1.897784e+05      10.080679   1077.648844     87.303830   \n",
       "std       13.640433  1.055500e+05       2.572720   7385.292085    402.960219   \n",
       "min       17.000000  1.228500e+04       1.000000      0.000000      0.000000   \n",
       "25%       28.000000  1.178270e+05       9.000000      0.000000      0.000000   \n",
       "50%       37.000000  1.783560e+05      10.000000      0.000000      0.000000   \n",
       "75%       48.000000  2.370510e+05      12.000000      0.000000      0.000000   \n",
       "max       90.000000  1.484705e+06      16.000000  99999.000000   4356.000000   \n",
       "\n",
       "       hours_per_week  \n",
       "count    32561.000000  \n",
       "mean        40.437456  \n",
       "std         12.347429  \n",
       "min          1.000000  \n",
       "25%         40.000000  \n",
       "50%         40.000000  \n",
       "75%         45.000000  \n",
       "max         99.000000  "
      ]
     },
     "execution_count": 4,
     "metadata": {},
     "output_type": "execute_result"
    }
   ],
   "source": [
    "df.describe()"
   ]
  },
  {
   "cell_type": "markdown",
   "metadata": {
    "slideshow": {
     "slide_type": "slide"
    }
   },
   "source": [
    "#### Create the target"
   ]
  },
  {
   "cell_type": "code",
   "execution_count": 5,
   "metadata": {},
   "outputs": [],
   "source": [
    "df['target'] = 0.0\n",
    "mask = (df['income_band'] == '>50K')\n",
    "df['target'][mask] = 1.0"
   ]
  },
  {
   "cell_type": "code",
   "execution_count": 6,
   "metadata": {},
   "outputs": [
    {
     "data": {
      "text/plain": [
       "0.0    24720\n",
       "1.0     7841\n",
       "Name: target, dtype: int64"
      ]
     },
     "execution_count": 6,
     "metadata": {},
     "output_type": "execute_result"
    }
   ],
   "source": [
    "df['target'].value_counts()"
   ]
  },
  {
   "cell_type": "markdown",
   "metadata": {
    "slideshow": {
     "slide_type": "slide"
    }
   },
   "source": [
    "### Discretize continuous values"
   ]
  },
  {
   "cell_type": "markdown",
   "metadata": {},
   "source": [
    "While Naive Bayes can be run with continuous values, we will try it only with categorical features\n",
    "\n",
    "* **workclass** is categorical; it takes values among\n",
    "    * Private, Self-emp-not-inc, Self-emp-inc, Federal-gov, Local-gov, State-gov, Without-pay, Never-worked.\n",
    "* **age** is continuous."
   ]
  },
  {
   "cell_type": "markdown",
   "metadata": {},
   "source": [
    "For the continuous features, we will _discretize_ them into bins. Thankfully, pandas gives us a simple way to do so."
   ]
  },
  {
   "cell_type": "code",
   "execution_count": 7,
   "metadata": {
    "slideshow": {
     "slide_type": "fragment"
    }
   },
   "outputs": [
    {
     "name": "stdout",
     "output_type": "stream",
     "text": [
      "0    (33.0, 41.0]\n",
      "1    (41.0, 50.0]\n",
      "2    (33.0, 41.0]\n",
      "3    (50.0, 90.0]\n",
      "4    (26.0, 33.0]\n",
      "Name: age_binned, dtype: category\n",
      "Categories (5, interval[float64, right]): [(16.999, 26.0] < (26.0, 33.0] < (33.0, 41.0] < (41.0, 50.0] < (50.0, 90.0]]\n"
     ]
    }
   ],
   "source": [
    "# NOTE: We also return the bins (retbins=True).\n",
    "# We will use these bins later on the test set.\n",
    "df['age_binned'], age_bins = pd.qcut(df['age'], 5, retbins=True)\n",
    "print(df['age_binned'][:5])"
   ]
  },
  {
   "cell_type": "code",
   "execution_count": 8,
   "metadata": {
    "slideshow": {
     "slide_type": "slide"
    }
   },
   "outputs": [],
   "source": [
    "df['fnlwgt_binned'], fnlwgt_bins = pd.qcut(df['fnlwgt'], 5, retbins=True)\n",
    "df['education_num_binned'], education_num_bins = pd.qcut(df['education_num'],\n",
    "                                                         3, retbins=True)"
   ]
  },
  {
   "cell_type": "markdown",
   "metadata": {
    "slideshow": {
     "slide_type": "fragment"
    }
   },
   "source": [
    "Other seemingly continuous features are actually almost categorical. Consider capital_loss, for instance."
   ]
  },
  {
   "cell_type": "code",
   "execution_count": 9,
   "metadata": {},
   "outputs": [
    {
     "data": {
      "text/plain": [
       "0       31042\n",
       "1902      202\n",
       "1977      168\n",
       "1887      159\n",
       "1848       51\n",
       "Name: capital_loss, dtype: int64"
      ]
     },
     "execution_count": 9,
     "metadata": {},
     "output_type": "execute_result"
    }
   ],
   "source": [
    "df['capital_loss'].value_counts()[:5]"
   ]
  },
  {
   "cell_type": "code",
   "execution_count": 10,
   "metadata": {
    "slideshow": {
     "slide_type": "fragment"
    }
   },
   "outputs": [
    {
     "data": {
      "text/plain": [
       "32561"
      ]
     },
     "execution_count": 10,
     "metadata": {},
     "output_type": "execute_result"
    }
   ],
   "source": [
    "len(df)"
   ]
  },
  {
   "cell_type": "markdown",
   "metadata": {
    "slideshow": {
     "slide_type": "fragment"
    }
   },
   "source": [
    "So, let us bin capital loss as either 0, or greater than 0."
   ]
  },
  {
   "cell_type": "code",
   "execution_count": 11,
   "metadata": {
    "slideshow": {
     "slide_type": "slide"
    }
   },
   "outputs": [],
   "source": [
    "df['capital_loss_binned'] = '0'\n",
    "df['capital_loss_binned'][df['capital_loss'] > 0] = '>0'"
   ]
  },
  {
   "cell_type": "code",
   "execution_count": 12,
   "metadata": {},
   "outputs": [],
   "source": [
    "df['capital_gain_binned'] = '0'\n",
    "df['capital_gain_binned'][df['capital_gain'] > 0] = '>0'"
   ]
  },
  {
   "cell_type": "markdown",
   "metadata": {
    "slideshow": {
     "slide_type": "fragment"
    }
   },
   "source": [
    "Similarly for hours_per_week: less than 40, 40, and more than 40."
   ]
  },
  {
   "cell_type": "code",
   "execution_count": 13,
   "metadata": {
    "slideshow": {
     "slide_type": "fragment"
    }
   },
   "outputs": [],
   "source": [
    "df['hours_binned'] = '40'\n",
    "df['hours_binned'][df['hours_per_week'] < 40] = '<40'\n",
    "df['hours_binned'][df['hours_per_week'] > 40] = '>40'"
   ]
  },
  {
   "cell_type": "markdown",
   "metadata": {
    "slideshow": {
     "slide_type": "slide"
    }
   },
   "source": [
    "#### Create the design matrices"
   ]
  },
  {
   "cell_type": "code",
   "execution_count": 14,
   "metadata": {},
   "outputs": [
    {
     "name": "stdout",
     "output_type": "stream",
     "text": [
      "['age' 'workclass' 'fnlwgt' 'education' 'education_num' 'marital_status'\n",
      " 'occupation' 'relationship' 'race' 'sex' 'capital_gain' 'capital_loss'\n",
      " 'hours_per_week' 'native_country' 'income_band' 'target' 'age_binned'\n",
      " 'fnlwgt_binned' 'education_num_binned' 'capital_loss_binned'\n",
      " 'capital_gain_binned' 'hours_binned']\n"
     ]
    }
   ],
   "source": [
    "print(df.columns.values)"
   ]
  },
  {
   "cell_type": "markdown",
   "metadata": {
    "slideshow": {
     "slide_type": "fragment"
    }
   },
   "source": [
    "For Naive Bayes, we want all dummy variables, but unfortunately standard patsy doesn't necessarily give us that. So, just for the Naive Bayes classifier, we will use a pandas-specific way of dummy encoding."
   ]
  },
  {
   "cell_type": "code",
   "execution_count": 15,
   "metadata": {
    "slideshow": {
     "slide_type": "slide"
    }
   },
   "outputs": [],
   "source": [
    "# Make a list of all our categorical variables\n",
    "categorical_columns = ['age_binned', 'workclass', 'fnlwgt_binned', 'education',\n",
    "          'education_num_binned', 'marital_status', 'occupation', 'relationship',\n",
    "          'race', 'sex', 'capital_gain_binned', 'capital_loss_binned', 'hours_binned']"
   ]
  },
  {
   "cell_type": "code",
   "execution_count": 16,
   "metadata": {
    "slideshow": {
     "slide_type": "fragment"
    }
   },
   "outputs": [
    {
     "data": {
      "text/plain": [
       "array(['age_binned_(16.999, 26.0]', 'age_binned_(26.0, 33.0]',\n",
       "       'age_binned_(33.0, 41.0]', 'age_binned_(41.0, 50.0]',\n",
       "       'age_binned_(50.0, 90.0]', 'workclass_?', 'workclass_Federal-gov',\n",
       "       'workclass_Local-gov', 'workclass_Never-worked',\n",
       "       'workclass_Private'], dtype=object)"
      ]
     },
     "execution_count": 16,
     "metadata": {},
     "output_type": "execute_result"
    }
   ],
   "source": [
    "# Use pandas to create dummy variables\n",
    "df_dummies = pd.get_dummies(df[categorical_columns],\n",
    "                            prefix=categorical_columns,\n",
    "                            columns=categorical_columns)\n",
    "dummy_column_names = df_dummies.columns.values\n",
    "dummy_column_names[:10]"
   ]
  },
  {
   "cell_type": "code",
   "execution_count": 17,
   "metadata": {
    "slideshow": {
     "slide_type": "fragment"
    }
   },
   "outputs": [],
   "source": [
    "# Concatenate all these new dummy columns into the old dataframe\n",
    "df2 = pd.concat([df, df_dummies], axis=1)"
   ]
  },
  {
   "cell_type": "markdown",
   "metadata": {
    "slideshow": {
     "slide_type": "slide"
    }
   },
   "source": [
    "Now, we use patsy to predict target using all the dummy variables.\n",
    "* But we have dummy variables with strange names\n",
    "* If we say `\"target ~ age_binned_(16.999, 26.0]\"`\n",
    "    * patsy will get confused by the \"(\" and the space."
   ]
  },
  {
   "cell_type": "markdown",
   "metadata": {
    "slideshow": {
     "slide_type": "fragment"
    }
   },
   "source": [
    "* We need to put the feature names in a special format for patsy\n",
    "* `age_binned_(16.999, 26.0]` &rarr; `Q(\"age_binned_(16.999, 26.0]\")`"
   ]
  },
  {
   "cell_type": "code",
   "execution_count": 18,
   "metadata": {
    "slideshow": {
     "slide_type": "fragment"
    }
   },
   "outputs": [
    {
     "name": "stdout",
     "output_type": "stream",
     "text": [
      "target ~ 0 + Q(\"age_binned_(16.999, 26.0]\") + Q(\"age_binned_(26.0, 33.0]\") + Q(\"age_binned_(33.0, 41.0]\") + Q(\"age_binned_(41.0, 50.0]\") + Q(\"age_binned_(50.0, 90.0]\") + Q(\"workclass_?\") + Q(\"workclass_Federal-gov\") + Q(\"workclass_Local-gov\") + Q(\"workclass_Never-worked\") + Q(\"workclass_Private\") + Q(\"workclass_Self-emp-inc\") + Q(\"workclass_Self-emp-not-inc\") + Q(\"workclass_State-gov\") + Q(\"workclass_Without-pay\") + Q(\"fnlwgt_binned_(12284.999, 106648.0]\") + Q(\"fnlwgt_binned_(106648.0, 158662.0]\") + Q(\"fnlwgt_binned_(158662.0, 196338.0]\") + Q(\"fnlwgt_binned_(196338.0, 259873.0]\") + Q(\"fnlwgt_binned_(259873.0, 1484705.0]\") + Q(\"education_10th\") + Q(\"education_11th\") + Q(\"education_12th\") + Q(\"education_1st-4th\") + Q(\"education_5th-6th\") + Q(\"education_7th-8th\") + Q(\"education_9th\") + Q(\"education_Assoc-acdm\") + Q(\"education_Assoc-voc\") + Q(\"education_Bachelors\") + Q(\"education_Doctorate\") + Q(\"education_HS-grad\") + Q(\"education_Masters\") + Q(\"education_Preschool\") + Q(\"education_Prof-school\") + Q(\"education_Some-college\") + Q(\"education_num_binned_(0.999, 9.0]\") + Q(\"education_num_binned_(9.0, 10.0]\") + Q(\"education_num_binned_(10.0, 16.0]\") + Q(\"marital_status_Divorced\") + Q(\"marital_status_Married-AF-spouse\") + Q(\"marital_status_Married-civ-spouse\") + Q(\"marital_status_Married-spouse-absent\") + Q(\"marital_status_Never-married\") + Q(\"marital_status_Separated\") + Q(\"marital_status_Widowed\") + Q(\"occupation_?\") + Q(\"occupation_Adm-clerical\") + Q(\"occupation_Armed-Forces\") + Q(\"occupation_Craft-repair\") + Q(\"occupation_Exec-managerial\") + Q(\"occupation_Farming-fishing\") + Q(\"occupation_Handlers-cleaners\") + Q(\"occupation_Machine-op-inspct\") + Q(\"occupation_Other-service\") + Q(\"occupation_Priv-house-serv\") + Q(\"occupation_Prof-specialty\") + Q(\"occupation_Protective-serv\") + Q(\"occupation_Sales\") + Q(\"occupation_Tech-support\") + Q(\"occupation_Transport-moving\") + Q(\"relationship_Husband\") + Q(\"relationship_Not-in-family\") + Q(\"relationship_Other-relative\") + Q(\"relationship_Own-child\") + Q(\"relationship_Unmarried\") + Q(\"relationship_Wife\") + Q(\"race_Amer-Indian-Eskimo\") + Q(\"race_Asian-Pac-Islander\") + Q(\"race_Black\") + Q(\"race_Other\") + Q(\"race_White\") + Q(\"sex_Female\") + Q(\"sex_Male\") + Q(\"capital_gain_binned_0\") + Q(\"capital_gain_binned_>0\") + Q(\"capital_loss_binned_0\") + Q(\"capital_loss_binned_>0\") + Q(\"hours_binned_40\") + Q(\"hours_binned_<40\") + Q(\"hours_binned_>40\")\n"
     ]
    }
   ],
   "source": [
    "formula = 'target ~ 0 + {}'.format(' + '.join(['Q(\"{}\")'.format(x)\\\n",
    "                                               for x in dummy_column_names]))\n",
    "print(formula)"
   ]
  },
  {
   "cell_type": "code",
   "execution_count": 19,
   "metadata": {
    "slideshow": {
     "slide_type": "slide"
    }
   },
   "outputs": [],
   "source": [
    "Y, X = dmatrices(formula, df2, return_type='dataframe')\n",
    "y = Y['target'].values"
   ]
  },
  {
   "cell_type": "markdown",
   "metadata": {
    "slideshow": {
     "slide_type": "-"
    }
   },
   "source": [
    "#### Set up the classifier"
   ]
  },
  {
   "cell_type": "code",
   "execution_count": 20,
   "metadata": {},
   "outputs": [],
   "source": [
    "from sklearn import naive_bayes\n",
    "model = naive_bayes.MultinomialNB()"
   ]
  },
  {
   "cell_type": "markdown",
   "metadata": {
    "slideshow": {
     "slide_type": "fragment"
    }
   },
   "source": [
    "#### Fit the model"
   ]
  },
  {
   "cell_type": "code",
   "execution_count": 21,
   "metadata": {
    "slideshow": {
     "slide_type": "fragment"
    }
   },
   "outputs": [
    {
     "data": {
      "text/plain": [
       "MultinomialNB()"
      ]
     },
     "execution_count": 21,
     "metadata": {},
     "output_type": "execute_result"
    }
   ],
   "source": [
    "model.fit(X, y)"
   ]
  },
  {
   "cell_type": "markdown",
   "metadata": {
    "slideshow": {
     "slide_type": "slide"
    }
   },
   "source": [
    "#### Test on some training data"
   ]
  },
  {
   "cell_type": "code",
   "execution_count": 22,
   "metadata": {},
   "outputs": [
    {
     "name": "stdout",
     "output_type": "stream",
     "text": [
      "Prediction\n",
      "[0. 1. 0. 0. 1. 1. 0. 1. 1. 1.]\n",
      "Actual\n",
      "[0. 0. 0. 0. 0. 0. 0. 1. 1. 1.]\n"
     ]
    }
   ],
   "source": [
    "print('Prediction')\n",
    "print(model.predict(X[:10]))\n",
    "print('Actual')\n",
    "print(y[:10])"
   ]
  },
  {
   "cell_type": "code",
   "execution_count": 23,
   "metadata": {
    "slideshow": {
     "slide_type": "fragment"
    }
   },
   "outputs": [
    {
     "name": "stdout",
     "output_type": "stream",
     "text": [
      "0.8188937686189\n"
     ]
    }
   ],
   "source": [
    "from sklearn import metrics\n",
    "\n",
    "prediction_train = model.predict(X)\n",
    "print(metrics.accuracy_score(y, prediction_train))"
   ]
  },
  {
   "cell_type": "markdown",
   "metadata": {
    "slideshow": {
     "slide_type": "slide"
    }
   },
   "source": [
    "#### Test\n",
    "\n",
    "We load the test data from another CSV file."
   ]
  },
  {
   "cell_type": "code",
   "execution_count": 24,
   "metadata": {},
   "outputs": [],
   "source": [
    "df_test = pd.read_csv('Classification_2_data/adult.test',\n",
    "                      sep=', ',\n",
    "                      names=names)"
   ]
  },
  {
   "cell_type": "markdown",
   "metadata": {
    "slideshow": {
     "slide_type": "fragment"
    }
   },
   "source": [
    "#### Create the target"
   ]
  },
  {
   "cell_type": "code",
   "execution_count": 25,
   "metadata": {
    "slideshow": {
     "slide_type": "fragment"
    }
   },
   "outputs": [],
   "source": [
    "df_test['target'] = 0.0\n",
    "mask = (df_test['income_band'] == '>50K')\n",
    "df_test['target'][mask] = 1.0"
   ]
  },
  {
   "cell_type": "markdown",
   "metadata": {
    "slideshow": {
     "slide_type": "slide"
    }
   },
   "source": [
    "#### Do the feature binning"
   ]
  },
  {
   "cell_type": "code",
   "execution_count": 26,
   "metadata": {},
   "outputs": [],
   "source": [
    "# Use the bins we created using from the training set\n",
    "# Now, we need pd.cut instead of pd.qcut\n",
    "df_test['age_binned'] = pd.cut(df_test['age'],\n",
    "                               bins=age_bins,\n",
    "                               include_lowest=True)\n",
    "df_test['fnlwgt_binned'] = pd.cut(df_test['fnlwgt'],\n",
    "                                  bins=fnlwgt_bins,\n",
    "                                  include_lowest=True)\n",
    "df_test['education_num_binned'] = pd.cut(df_test['education_num'],\n",
    "                                         bins=education_num_bins,\n",
    "                                         include_lowest=True)"
   ]
  },
  {
   "cell_type": "code",
   "execution_count": 27,
   "metadata": {
    "slideshow": {
     "slide_type": "fragment"
    }
   },
   "outputs": [],
   "source": [
    "# Rest is the same as before\n",
    "df_test['capital_loss_binned'] = '0'\n",
    "df_test['capital_loss_binned'][df_test['capital_loss'] > 0] = '>0'\n",
    "\n",
    "df_test['capital_gain_binned'] = '0'\n",
    "df_test['capital_gain_binned'][df_test['capital_gain'] > 0] = '>0'\n",
    "\n",
    "df_test['hours_binned'] = '40'\n",
    "df_test['hours_binned'][df_test['hours_per_week'] < 40] = '<40'\n",
    "df_test['hours_binned'][df_test['hours_per_week'] > 40] = '>40'"
   ]
  },
  {
   "cell_type": "markdown",
   "metadata": {
    "slideshow": {
     "slide_type": "slide"
    }
   },
   "source": [
    "#### Create the design matrices"
   ]
  },
  {
   "cell_type": "code",
   "execution_count": 28,
   "metadata": {},
   "outputs": [],
   "source": [
    "df_dummies = pd.get_dummies(df_test[categorical_columns],\n",
    "                            prefix=categorical_columns,\n",
    "                            columns=categorical_columns)\n",
    "dummy_column_names = df_dummies.columns.values\n",
    "df_test2 = pd.concat([df_test, df_dummies], axis=1)"
   ]
  },
  {
   "cell_type": "code",
   "execution_count": 29,
   "metadata": {},
   "outputs": [],
   "source": [
    "Y_test, X_test = dmatrices(formula, df_test2, return_type='dataframe')\n",
    "y_test = Y_test['target'].values"
   ]
  },
  {
   "cell_type": "markdown",
   "metadata": {
    "slideshow": {
     "slide_type": "slide"
    }
   },
   "source": [
    "#### Run the test"
   ]
  },
  {
   "cell_type": "code",
   "execution_count": 30,
   "metadata": {},
   "outputs": [
    {
     "name": "stdout",
     "output_type": "stream",
     "text": [
      "0.8220625268718138\n"
     ]
    }
   ],
   "source": [
    "prediction_test = model.predict(X_test)\n",
    "print(metrics.accuracy_score(y_test, prediction_test))"
   ]
  },
  {
   "cell_type": "markdown",
   "metadata": {
    "slideshow": {
     "slide_type": "-"
    }
   },
   "source": [
    "* Testing accuracy was similar to training accuracy\n",
    "    * The accuracy on the training set was 0.819\n",
    "* This is good; it means we are not overfitting\n",
    "    * With overfitting, we would have great training accuracy,\n",
    "    * but the classifier would perform poorly on the test set."
   ]
  },
  {
   "cell_type": "markdown",
   "metadata": {
    "slideshow": {
     "slide_type": "slide"
    }
   },
   "source": [
    "#### Class priors"
   ]
  },
  {
   "cell_type": "markdown",
   "metadata": {},
   "source": [
    "* Class priors are encoded in the `model` variable, after fitting the model to the training data. \n",
    "* The priors are available from `model.class_log_prior_`\n",
    "    * This is not the fraction of each class in the training data, but rather\n",
    "    * the _logarithm_ of that."
   ]
  },
  {
   "cell_type": "code",
   "execution_count": 31,
   "metadata": {
    "slideshow": {
     "slide_type": "fragment"
    }
   },
   "outputs": [
    {
     "name": "stdout",
     "output_type": "stream",
     "text": [
      "Prior probability for the negative class is\n",
      "0.7591904425539763\n",
      "Prior probability for the positive class is\n",
      "0.24080955744602456\n"
     ]
    }
   ],
   "source": [
    "print('Prior probability for the negative class is',)\n",
    "print(exp(model.class_log_prior_[0]))\n",
    "print('Prior probability for the positive class is',)\n",
    "print(exp(model.class_log_prior_[1]))"
   ]
  },
  {
   "cell_type": "markdown",
   "metadata": {
    "slideshow": {
     "slide_type": "fragment"
    }
   },
   "source": [
    "This says:\n",
    "\n",
    "* first class (class 0) has prior probability 0.76\n",
    "* second class (class 1) has probability 0.24"
   ]
  },
  {
   "cell_type": "markdown",
   "metadata": {
    "slideshow": {
     "slide_type": "slide"
    }
   },
   "source": [
    "We can quickly check that this is exactly the fraction of these classes in the training data."
   ]
  },
  {
   "cell_type": "code",
   "execution_count": 32,
   "metadata": {},
   "outputs": [
    {
     "data": {
      "text/plain": [
       "0.0    0.75919\n",
       "1.0    0.24081\n",
       "Name: target, dtype: float64"
      ]
     },
     "execution_count": 32,
     "metadata": {},
     "output_type": "execute_result"
    }
   ],
   "source": [
    "df['target'].value_counts() / len(df)"
   ]
  },
  {
   "cell_type": "markdown",
   "metadata": {
    "slideshow": {
     "slide_type": "fragment"
    }
   },
   "source": [
    "This also says that we can easily achieve 76% accuracy: just predict negative class always."
   ]
  },
  {
   "cell_type": "markdown",
   "metadata": {
    "slideshow": {
     "slide_type": "fragment"
    }
   },
   "source": [
    "Our accuracy of 82% is better than this baseline, but perhaps not by a lot."
   ]
  },
  {
   "cell_type": "markdown",
   "metadata": {
    "slideshow": {
     "slide_type": "slide"
    }
   },
   "source": [
    "#### What are the likelihoods?"
   ]
  },
  {
   "cell_type": "markdown",
   "metadata": {
    "slideshow": {
     "slide_type": "fragment"
    }
   },
   "source": [
    "There is a special attribute called `model.feature_log_prob_` that is available after fitting the training data."
   ]
  },
  {
   "cell_type": "code",
   "execution_count": 33,
   "metadata": {
    "slideshow": {
     "slide_type": "fragment"
    }
   },
   "outputs": [
    {
     "data": {
      "text/plain": [
       "array([-6.35107198, -4.55837662, -3.87227007, -3.75926107, -3.88363922])"
      ]
     },
     "execution_count": 33,
     "metadata": {},
     "output_type": "execute_result"
    }
   ],
   "source": [
    "# Log of the likelihoods for class 1 (positive class) for the first 5 features\n",
    "model.feature_log_prob_[1][:5]"
   ]
  },
  {
   "cell_type": "code",
   "execution_count": 34,
   "metadata": {
    "slideshow": {
     "slide_type": "fragment"
    }
   },
   "outputs": [
    {
     "data": {
      "text/html": [
       "<div>\n",
       "<style scoped>\n",
       "    .dataframe tbody tr th:only-of-type {\n",
       "        vertical-align: middle;\n",
       "    }\n",
       "\n",
       "    .dataframe tbody tr th {\n",
       "        vertical-align: top;\n",
       "    }\n",
       "\n",
       "    .dataframe thead th {\n",
       "        text-align: right;\n",
       "    }\n",
       "</style>\n",
       "<table border=\"1\" class=\"dataframe\">\n",
       "  <thead>\n",
       "    <tr style=\"text-align: right;\">\n",
       "      <th></th>\n",
       "      <th>Positive class</th>\n",
       "      <th>Negative class</th>\n",
       "    </tr>\n",
       "  </thead>\n",
       "  <tbody>\n",
       "    <tr>\n",
       "      <th>Q(\"age_binned_(16.999, 26.0]\")</th>\n",
       "      <td>0.001745</td>\n",
       "      <td>0.021839</td>\n",
       "    </tr>\n",
       "    <tr>\n",
       "      <th>Q(\"age_binned_(26.0, 33.0]\")</th>\n",
       "      <td>0.010479</td>\n",
       "      <td>0.015244</td>\n",
       "    </tr>\n",
       "    <tr>\n",
       "      <th>Q(\"age_binned_(33.0, 41.0]\")</th>\n",
       "      <td>0.020811</td>\n",
       "      <td>0.014441</td>\n",
       "    </tr>\n",
       "    <tr>\n",
       "      <th>Q(\"age_binned_(41.0, 50.0]\")</th>\n",
       "      <td>0.023301</td>\n",
       "      <td>0.011822</td>\n",
       "    </tr>\n",
       "    <tr>\n",
       "      <th>Q(\"age_binned_(50.0, 90.0]\")</th>\n",
       "      <td>0.020576</td>\n",
       "      <td>0.013573</td>\n",
       "    </tr>\n",
       "  </tbody>\n",
       "</table>\n",
       "</div>"
      ],
      "text/plain": [
       "                                Positive class  Negative class\n",
       "Q(\"age_binned_(16.999, 26.0]\")        0.001745        0.021839\n",
       "Q(\"age_binned_(26.0, 33.0]\")          0.010479        0.015244\n",
       "Q(\"age_binned_(33.0, 41.0]\")          0.020811        0.014441\n",
       "Q(\"age_binned_(41.0, 50.0]\")          0.023301        0.011822\n",
       "Q(\"age_binned_(50.0, 90.0]\")          0.020576        0.013573"
      ]
     },
     "execution_count": 34,
     "metadata": {},
     "output_type": "execute_result"
    }
   ],
   "source": [
    "feature_stats = DataFrame({'Positive class':np.exp(model.feature_log_prob_[1]),\n",
    "                           'Negative class':np.exp(model.feature_log_prob_[0])},\n",
    "                           index=X.columns.values) # <-- feature names\n",
    "feature_stats[:5]"
   ]
  },
  {
   "cell_type": "markdown",
   "metadata": {
    "slideshow": {
     "slide_type": "slide"
    }
   },
   "source": [
    "#### Which features are most important?"
   ]
  },
  {
   "cell_type": "markdown",
   "metadata": {},
   "source": [
    "A feature is important (i.e. very **discriminative**) if it is very _likely_ in one class but very _unlikely_ in the other."
   ]
  },
  {
   "cell_type": "markdown",
   "metadata": {
    "slideshow": {
     "slide_type": "fragment"
    }
   },
   "source": [
    "Look at the ratio of $$P(\\mbox{feature in positive class})$$ to $$P(\\mbox{feature in negative class})$$"
   ]
  },
  {
   "cell_type": "markdown",
   "metadata": {
    "slideshow": {
     "slide_type": "fragment"
    }
   },
   "source": [
    "$$\\mbox{If Ratio } \\gg 1 \\Rightarrow \\mbox{presence of feature implies positive class}$$"
   ]
  },
  {
   "cell_type": "markdown",
   "metadata": {
    "slideshow": {
     "slide_type": "fragment"
    }
   },
   "source": [
    "$$\\mbox{If Ratio } \\ll 1 \\Rightarrow \\mbox{presence of feature implies negative class}$$"
   ]
  },
  {
   "cell_type": "code",
   "execution_count": 35,
   "metadata": {
    "slideshow": {
     "slide_type": "slide"
    }
   },
   "outputs": [
    {
     "data": {
      "text/html": [
       "<div>\n",
       "<style scoped>\n",
       "    .dataframe tbody tr th:only-of-type {\n",
       "        vertical-align: middle;\n",
       "    }\n",
       "\n",
       "    .dataframe tbody tr th {\n",
       "        vertical-align: top;\n",
       "    }\n",
       "\n",
       "    .dataframe thead th {\n",
       "        text-align: right;\n",
       "    }\n",
       "</style>\n",
       "<table border=\"1\" class=\"dataframe\">\n",
       "  <thead>\n",
       "    <tr style=\"text-align: right;\">\n",
       "      <th></th>\n",
       "      <th>Positive class</th>\n",
       "      <th>Negative class</th>\n",
       "      <th>Positive/Negative Ratio</th>\n",
       "    </tr>\n",
       "  </thead>\n",
       "  <tbody>\n",
       "    <tr>\n",
       "      <th>Q(\"age_binned_(16.999, 26.0]\")</th>\n",
       "      <td>0.001745</td>\n",
       "      <td>0.021839</td>\n",
       "      <td>0.079896</td>\n",
       "    </tr>\n",
       "    <tr>\n",
       "      <th>Q(\"age_binned_(26.0, 33.0]\")</th>\n",
       "      <td>0.010479</td>\n",
       "      <td>0.015244</td>\n",
       "      <td>0.687426</td>\n",
       "    </tr>\n",
       "    <tr>\n",
       "      <th>Q(\"age_binned_(33.0, 41.0]\")</th>\n",
       "      <td>0.020811</td>\n",
       "      <td>0.014441</td>\n",
       "      <td>1.441084</td>\n",
       "    </tr>\n",
       "  </tbody>\n",
       "</table>\n",
       "</div>"
      ],
      "text/plain": [
       "                                Positive class  Negative class  \\\n",
       "Q(\"age_binned_(16.999, 26.0]\")        0.001745        0.021839   \n",
       "Q(\"age_binned_(26.0, 33.0]\")          0.010479        0.015244   \n",
       "Q(\"age_binned_(33.0, 41.0]\")          0.020811        0.014441   \n",
       "\n",
       "                                Positive/Negative Ratio  \n",
       "Q(\"age_binned_(16.999, 26.0]\")                 0.079896  \n",
       "Q(\"age_binned_(26.0, 33.0]\")                   0.687426  \n",
       "Q(\"age_binned_(33.0, 41.0]\")                   1.441084  "
      ]
     },
     "execution_count": 35,
     "metadata": {},
     "output_type": "execute_result"
    }
   ],
   "source": [
    "feature_stats['Positive/Negative Ratio'] = feature_stats['Positive class']\\\n",
    "                                         / feature_stats['Negative class']\n",
    "feature_stats[:3]"
   ]
  },
  {
   "cell_type": "markdown",
   "metadata": {
    "slideshow": {
     "slide_type": "fragment"
    }
   },
   "source": [
    "$$\\mbox{How can we measure if the ratio is far from 1?}$$."
   ]
  },
  {
   "cell_type": "markdown",
   "metadata": {
    "slideshow": {
     "slide_type": "fragment"
    }
   },
   "source": [
    "$$\\Rightarrow \\log\\left(Ratio\\right) \\mbox{ is very large in magnitude}$$"
   ]
  },
  {
   "cell_type": "code",
   "execution_count": 36,
   "metadata": {
    "slideshow": {
     "slide_type": "fragment"
    }
   },
   "outputs": [
    {
     "data": {
      "text/html": [
       "<div>\n",
       "<style scoped>\n",
       "    .dataframe tbody tr th:only-of-type {\n",
       "        vertical-align: middle;\n",
       "    }\n",
       "\n",
       "    .dataframe tbody tr th {\n",
       "        vertical-align: top;\n",
       "    }\n",
       "\n",
       "    .dataframe thead th {\n",
       "        text-align: right;\n",
       "    }\n",
       "</style>\n",
       "<table border=\"1\" class=\"dataframe\">\n",
       "  <thead>\n",
       "    <tr style=\"text-align: right;\">\n",
       "      <th></th>\n",
       "      <th>Positive class</th>\n",
       "      <th>Negative class</th>\n",
       "      <th>Positive/Negative Ratio</th>\n",
       "      <th>Importance</th>\n",
       "    </tr>\n",
       "  </thead>\n",
       "  <tbody>\n",
       "    <tr>\n",
       "      <th>Q(\"age_binned_(16.999, 26.0]\")</th>\n",
       "      <td>0.001745</td>\n",
       "      <td>0.021839</td>\n",
       "      <td>0.079896</td>\n",
       "      <td>2.527024</td>\n",
       "    </tr>\n",
       "    <tr>\n",
       "      <th>Q(\"age_binned_(26.0, 33.0]\")</th>\n",
       "      <td>0.010479</td>\n",
       "      <td>0.015244</td>\n",
       "      <td>0.687426</td>\n",
       "      <td>0.374801</td>\n",
       "    </tr>\n",
       "    <tr>\n",
       "      <th>Q(\"age_binned_(33.0, 41.0]\")</th>\n",
       "      <td>0.020811</td>\n",
       "      <td>0.014441</td>\n",
       "      <td>1.441084</td>\n",
       "      <td>0.365396</td>\n",
       "    </tr>\n",
       "  </tbody>\n",
       "</table>\n",
       "</div>"
      ],
      "text/plain": [
       "                                Positive class  Negative class  \\\n",
       "Q(\"age_binned_(16.999, 26.0]\")        0.001745        0.021839   \n",
       "Q(\"age_binned_(26.0, 33.0]\")          0.010479        0.015244   \n",
       "Q(\"age_binned_(33.0, 41.0]\")          0.020811        0.014441   \n",
       "\n",
       "                                Positive/Negative Ratio  Importance  \n",
       "Q(\"age_binned_(16.999, 26.0]\")                 0.079896    2.527024  \n",
       "Q(\"age_binned_(26.0, 33.0]\")                   0.687426    0.374801  \n",
       "Q(\"age_binned_(33.0, 41.0]\")                   1.441084    0.365396  "
      ]
     },
     "execution_count": 36,
     "metadata": {},
     "output_type": "execute_result"
    }
   ],
   "source": [
    "feature_stats['Importance'] = \\\n",
    "    np.abs(np.log(feature_stats['Positive/Negative Ratio']))\n",
    "feature_stats[:3]"
   ]
  },
  {
   "cell_type": "markdown",
   "metadata": {
    "slideshow": {
     "slide_type": "fragment"
    }
   },
   "source": [
    "How can we find the top features?"
   ]
  },
  {
   "cell_type": "code",
   "execution_count": 37,
   "metadata": {
    "slideshow": {
     "slide_type": "slide"
    }
   },
   "outputs": [
    {
     "data": {
      "text/html": [
       "<div>\n",
       "<style scoped>\n",
       "    .dataframe tbody tr th:only-of-type {\n",
       "        vertical-align: middle;\n",
       "    }\n",
       "\n",
       "    .dataframe tbody tr th {\n",
       "        vertical-align: top;\n",
       "    }\n",
       "\n",
       "    .dataframe thead th {\n",
       "        text-align: right;\n",
       "    }\n",
       "</style>\n",
       "<table border=\"1\" class=\"dataframe\">\n",
       "  <thead>\n",
       "    <tr style=\"text-align: right;\">\n",
       "      <th></th>\n",
       "      <th>Positive class</th>\n",
       "      <th>Negative class</th>\n",
       "      <th>Positive/Negative Ratio</th>\n",
       "      <th>Importance</th>\n",
       "    </tr>\n",
       "  </thead>\n",
       "  <tbody>\n",
       "    <tr>\n",
       "      <th>Q(\"occupation_Priv-house-serv\")</th>\n",
       "      <td>0.000020</td>\n",
       "      <td>0.000464</td>\n",
       "      <td>0.042295</td>\n",
       "      <td>3.163088</td>\n",
       "    </tr>\n",
       "    <tr>\n",
       "      <th>Q(\"relationship_Own-child\")</th>\n",
       "      <td>0.000667</td>\n",
       "      <td>0.015561</td>\n",
       "      <td>0.042836</td>\n",
       "      <td>3.150375</td>\n",
       "    </tr>\n",
       "    <tr>\n",
       "      <th>Q(\"education_Preschool\")</th>\n",
       "      <td>0.000010</td>\n",
       "      <td>0.000162</td>\n",
       "      <td>0.060596</td>\n",
       "      <td>2.803533</td>\n",
       "    </tr>\n",
       "    <tr>\n",
       "      <th>Q(\"age_binned_(16.999, 26.0]\")</th>\n",
       "      <td>0.001745</td>\n",
       "      <td>0.021839</td>\n",
       "      <td>0.079896</td>\n",
       "      <td>2.527024</td>\n",
       "    </tr>\n",
       "    <tr>\n",
       "      <th>Q(\"education_Doctorate\")</th>\n",
       "      <td>0.003009</td>\n",
       "      <td>0.000336</td>\n",
       "      <td>8.956927</td>\n",
       "      <td>2.192427</td>\n",
       "    </tr>\n",
       "    <tr>\n",
       "      <th>Q(\"education_Prof-school\")</th>\n",
       "      <td>0.004156</td>\n",
       "      <td>0.000479</td>\n",
       "      <td>8.675401</td>\n",
       "      <td>2.160491</td>\n",
       "    </tr>\n",
       "    <tr>\n",
       "      <th>Q(\"relationship_Other-relative\")</th>\n",
       "      <td>0.000373</td>\n",
       "      <td>0.002940</td>\n",
       "      <td>0.126706</td>\n",
       "      <td>2.065888</td>\n",
       "    </tr>\n",
       "    <tr>\n",
       "      <th>Q(\"education_1st-4th\")</th>\n",
       "      <td>0.000069</td>\n",
       "      <td>0.000507</td>\n",
       "      <td>0.135318</td>\n",
       "      <td>2.000129</td>\n",
       "    </tr>\n",
       "    <tr>\n",
       "      <th>Q(\"occupation_Other-service\")</th>\n",
       "      <td>0.001353</td>\n",
       "      <td>0.009828</td>\n",
       "      <td>0.137649</td>\n",
       "      <td>1.983046</td>\n",
       "    </tr>\n",
       "    <tr>\n",
       "      <th>Q(\"marital_status_Never-married\")</th>\n",
       "      <td>0.004823</td>\n",
       "      <td>0.031710</td>\n",
       "      <td>0.152092</td>\n",
       "      <td>1.883267</td>\n",
       "    </tr>\n",
       "  </tbody>\n",
       "</table>\n",
       "</div>"
      ],
      "text/plain": [
       "                                   Positive class  Negative class  \\\n",
       "Q(\"occupation_Priv-house-serv\")          0.000020        0.000464   \n",
       "Q(\"relationship_Own-child\")              0.000667        0.015561   \n",
       "Q(\"education_Preschool\")                 0.000010        0.000162   \n",
       "Q(\"age_binned_(16.999, 26.0]\")           0.001745        0.021839   \n",
       "Q(\"education_Doctorate\")                 0.003009        0.000336   \n",
       "Q(\"education_Prof-school\")               0.004156        0.000479   \n",
       "Q(\"relationship_Other-relative\")         0.000373        0.002940   \n",
       "Q(\"education_1st-4th\")                   0.000069        0.000507   \n",
       "Q(\"occupation_Other-service\")            0.001353        0.009828   \n",
       "Q(\"marital_status_Never-married\")        0.004823        0.031710   \n",
       "\n",
       "                                   Positive/Negative Ratio  Importance  \n",
       "Q(\"occupation_Priv-house-serv\")                   0.042295    3.163088  \n",
       "Q(\"relationship_Own-child\")                       0.042836    3.150375  \n",
       "Q(\"education_Preschool\")                          0.060596    2.803533  \n",
       "Q(\"age_binned_(16.999, 26.0]\")                    0.079896    2.527024  \n",
       "Q(\"education_Doctorate\")                          8.956927    2.192427  \n",
       "Q(\"education_Prof-school\")                        8.675401    2.160491  \n",
       "Q(\"relationship_Other-relative\")                  0.126706    2.065888  \n",
       "Q(\"education_1st-4th\")                            0.135318    2.000129  \n",
       "Q(\"occupation_Other-service\")                     0.137649    1.983046  \n",
       "Q(\"marital_status_Never-married\")                 0.152092    1.883267  "
      ]
     },
     "execution_count": 37,
     "metadata": {},
     "output_type": "execute_result"
    }
   ],
   "source": [
    "feature_stats.sort_values(by='Importance', ascending=False)[:10]"
   ]
  },
  {
   "cell_type": "markdown",
   "metadata": {
    "slideshow": {
     "slide_type": "fragment"
    }
   },
   "source": [
    "$$\\mbox{If Ratio } \\gg 1 \\Rightarrow \\mbox{presence of feature implies positive class}$$\n",
    "\n",
    "* So \"education_Doctorate\" and \"education_Prof-school\" are markers of positive class (i.e., >=50K salary)"
   ]
  }
 ],
 "metadata": {
  "celltoolbar": "Slideshow",
  "kernelspec": {
   "display_name": "Python 3 (ipykernel)",
   "language": "python",
   "name": "python3"
  },
  "language_info": {
   "codemirror_mode": {
    "name": "ipython",
    "version": 3
   },
   "file_extension": ".py",
   "mimetype": "text/x-python",
   "name": "python",
   "nbconvert_exporter": "python",
   "pygments_lexer": "ipython3",
   "version": "3.7.13"
  }
 },
 "nbformat": 4,
 "nbformat_minor": 1
}
