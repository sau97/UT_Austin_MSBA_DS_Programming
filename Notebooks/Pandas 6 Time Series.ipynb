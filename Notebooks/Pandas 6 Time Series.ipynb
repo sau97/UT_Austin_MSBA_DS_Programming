{
 "cells": [
  {
   "cell_type": "markdown",
   "metadata": {
    "slideshow": {
     "slide_type": "slide"
    }
   },
   "source": [
    "# Pandas 6"
   ]
  },
  {
   "cell_type": "markdown",
   "metadata": {
    "slideshow": {
     "slide_type": "slide"
    }
   },
   "source": [
    "Pandas handles timestamps in a special way that makes it easy to work with time series. As this is particularly important for financial applications, this lecture will concentrate on time series processing.\n",
    "\n",
    "We will look at:\n",
    "\n",
    "* the datetime object,\n",
    "* indexing and slicing by time,\n",
    "* various operations on time series,\n",
    "* and, time permitting, we'll build a trading simulator."
   ]
  },
  {
   "cell_type": "code",
   "execution_count": 1,
   "metadata": {
    "slideshow": {
     "slide_type": "slide"
    }
   },
   "outputs": [
    {
     "name": "stdout",
     "output_type": "stream",
     "text": [
      "Populating the interactive namespace from numpy and matplotlib\n"
     ]
    }
   ],
   "source": [
    "from pandas import Series, DataFrame\n",
    "import pandas as pd\n",
    "%pylab inline"
   ]
  },
  {
   "cell_type": "code",
   "execution_count": 2,
   "metadata": {},
   "outputs": [],
   "source": [
    "# For time series analysis, we also need another module\n",
    "from datetime import datetime"
   ]
  },
  {
   "cell_type": "markdown",
   "metadata": {
    "slideshow": {
     "slide_type": "slide"
    }
   },
   "source": [
    "## Loading financial time series data"
   ]
  },
  {
   "cell_type": "code",
   "execution_count": 3,
   "metadata": {},
   "outputs": [
    {
     "data": {
      "text/html": [
       "<div>\n",
       "<style scoped>\n",
       "    .dataframe tbody tr th:only-of-type {\n",
       "        vertical-align: middle;\n",
       "    }\n",
       "\n",
       "    .dataframe tbody tr th {\n",
       "        vertical-align: top;\n",
       "    }\n",
       "\n",
       "    .dataframe thead th {\n",
       "        text-align: right;\n",
       "    }\n",
       "</style>\n",
       "<table border=\"1\" class=\"dataframe\">\n",
       "  <thead>\n",
       "    <tr style=\"text-align: right;\">\n",
       "      <th></th>\n",
       "      <th>Open</th>\n",
       "      <th>High</th>\n",
       "      <th>Low</th>\n",
       "      <th>Close</th>\n",
       "      <th>Volume</th>\n",
       "      <th>Adj Close</th>\n",
       "    </tr>\n",
       "    <tr>\n",
       "      <th>Date</th>\n",
       "      <th></th>\n",
       "      <th></th>\n",
       "      <th></th>\n",
       "      <th></th>\n",
       "      <th></th>\n",
       "      <th></th>\n",
       "    </tr>\n",
       "  </thead>\n",
       "  <tbody>\n",
       "    <tr>\n",
       "      <th>2011-01-03</th>\n",
       "      <td>325.64</td>\n",
       "      <td>330.26</td>\n",
       "      <td>324.84</td>\n",
       "      <td>329.57</td>\n",
       "      <td>111284600</td>\n",
       "      <td>44.59</td>\n",
       "    </tr>\n",
       "    <tr>\n",
       "      <th>2011-01-04</th>\n",
       "      <td>332.44</td>\n",
       "      <td>332.50</td>\n",
       "      <td>328.15</td>\n",
       "      <td>331.29</td>\n",
       "      <td>77270200</td>\n",
       "      <td>44.82</td>\n",
       "    </tr>\n",
       "    <tr>\n",
       "      <th>2011-01-05</th>\n",
       "      <td>329.55</td>\n",
       "      <td>334.34</td>\n",
       "      <td>329.50</td>\n",
       "      <td>334.00</td>\n",
       "      <td>63879900</td>\n",
       "      <td>45.18</td>\n",
       "    </tr>\n",
       "    <tr>\n",
       "      <th>2011-01-06</th>\n",
       "      <td>334.72</td>\n",
       "      <td>335.25</td>\n",
       "      <td>332.90</td>\n",
       "      <td>333.73</td>\n",
       "      <td>75107200</td>\n",
       "      <td>45.15</td>\n",
       "    </tr>\n",
       "    <tr>\n",
       "      <th>2011-01-07</th>\n",
       "      <td>333.99</td>\n",
       "      <td>336.35</td>\n",
       "      <td>331.90</td>\n",
       "      <td>336.12</td>\n",
       "      <td>77982800</td>\n",
       "      <td>45.47</td>\n",
       "    </tr>\n",
       "  </tbody>\n",
       "</table>\n",
       "</div>"
      ],
      "text/plain": [
       "              Open    High     Low   Close     Volume  Adj Close\n",
       "Date                                                            \n",
       "2011-01-03  325.64  330.26  324.84  329.57  111284600      44.59\n",
       "2011-01-04  332.44  332.50  328.15  331.29   77270200      44.82\n",
       "2011-01-05  329.55  334.34  329.50  334.00   63879900      45.18\n",
       "2011-01-06  334.72  335.25  332.90  333.73   75107200      45.15\n",
       "2011-01-07  333.99  336.35  331.90  336.12   77982800      45.47"
      ]
     },
     "execution_count": 3,
     "metadata": {},
     "output_type": "execute_result"
    }
   ],
   "source": [
    "# Data downloaded from Yahoo! Finance\n",
    "df = pd.read_csv('Pandas_6_data/aapl.csv') \n",
    "\n",
    "# Convert the 'Date' column into a datetime object\n",
    "df['Date'] = pd.to_datetime(df['Date'])\n",
    "\n",
    "# Set 'Date' as the index\n",
    "df.set_index('Date', inplace=True)\n",
    "df[:5]"
   ]
  },
  {
   "cell_type": "markdown",
   "metadata": {
    "slideshow": {
     "slide_type": "fragment"
    }
   },
   "source": [
    "Pandas also provides convenience functions to get data directly from web sources. For this, we need the _pandas-datareader_ module."
   ]
  },
  {
   "cell_type": "markdown",
   "metadata": {
    "slideshow": {
     "slide_type": "skip"
    }
   },
   "source": [
    "We need to install pandas-datareader.\n",
    "\n",
    "* Typically, just installing it from the GUI works, but there's currently a bug whose fix is in the \"dev\" version, but not in the version installed by default.\n",
    "\n",
    "* Install git  (this is a commonly used version control software). Then try\n",
    "> pip install git+https://github.com/pydata/pandas-datareader.git\n",
    "\n",
    "OR, try this:\n",
    "> git clone https://github.com/pydata/pandas-datareader.git\n",
    "\n",
    "> cd pandas-datareader\n",
    "\n",
    "> python setup.py install"
   ]
  },
  {
   "cell_type": "code",
   "execution_count": 4,
   "metadata": {
    "slideshow": {
     "slide_type": "slide"
    }
   },
   "outputs": [
    {
     "data": {
      "text/html": [
       "<div>\n",
       "<style scoped>\n",
       "    .dataframe tbody tr th:only-of-type {\n",
       "        vertical-align: middle;\n",
       "    }\n",
       "\n",
       "    .dataframe tbody tr th {\n",
       "        vertical-align: top;\n",
       "    }\n",
       "\n",
       "    .dataframe thead th {\n",
       "        text-align: right;\n",
       "    }\n",
       "</style>\n",
       "<table border=\"1\" class=\"dataframe\">\n",
       "  <thead>\n",
       "    <tr style=\"text-align: right;\">\n",
       "      <th></th>\n",
       "      <th>Open</th>\n",
       "      <th>High</th>\n",
       "      <th>Low</th>\n",
       "      <th>Close</th>\n",
       "      <th>Volume</th>\n",
       "    </tr>\n",
       "    <tr>\n",
       "      <th>Date</th>\n",
       "      <th></th>\n",
       "      <th></th>\n",
       "      <th></th>\n",
       "      <th></th>\n",
       "      <th></th>\n",
       "    </tr>\n",
       "  </thead>\n",
       "  <tbody>\n",
       "    <tr>\n",
       "      <th>2017-01-03</th>\n",
       "      <td>42.972</td>\n",
       "      <td>44.066</td>\n",
       "      <td>42.192</td>\n",
       "      <td>43.398</td>\n",
       "      <td>27645515</td>\n",
       "    </tr>\n",
       "    <tr>\n",
       "      <th>2017-01-04</th>\n",
       "      <td>42.950</td>\n",
       "      <td>45.600</td>\n",
       "      <td>42.862</td>\n",
       "      <td>45.398</td>\n",
       "      <td>55627045</td>\n",
       "    </tr>\n",
       "    <tr>\n",
       "      <th>2017-01-05</th>\n",
       "      <td>45.284</td>\n",
       "      <td>45.496</td>\n",
       "      <td>44.390</td>\n",
       "      <td>45.350</td>\n",
       "      <td>29277385</td>\n",
       "    </tr>\n",
       "    <tr>\n",
       "      <th>2017-01-06</th>\n",
       "      <td>45.386</td>\n",
       "      <td>46.062</td>\n",
       "      <td>45.090</td>\n",
       "      <td>45.802</td>\n",
       "      <td>27321950</td>\n",
       "    </tr>\n",
       "    <tr>\n",
       "      <th>2017-01-09</th>\n",
       "      <td>45.794</td>\n",
       "      <td>46.384</td>\n",
       "      <td>45.600</td>\n",
       "      <td>46.256</td>\n",
       "      <td>19564525</td>\n",
       "    </tr>\n",
       "  </tbody>\n",
       "</table>\n",
       "</div>"
      ],
      "text/plain": [
       "              Open    High     Low   Close    Volume\n",
       "Date                                                \n",
       "2017-01-03  42.972  44.066  42.192  43.398  27645515\n",
       "2017-01-04  42.950  45.600  42.862  45.398  55627045\n",
       "2017-01-05  45.284  45.496  44.390  45.350  29277385\n",
       "2017-01-06  45.386  46.062  45.090  45.802  27321950\n",
       "2017-01-09  45.794  46.384  45.600  46.256  19564525"
      ]
     },
     "execution_count": 4,
     "metadata": {},
     "output_type": "execute_result"
    }
   ],
   "source": [
    "# Import the module for web downloads\n",
    "# (You will need to install the package \"pandas-datareader\")\n",
    "import pandas_datareader.data as web\n",
    "\n",
    "# Specify start and end dates to download\n",
    "start_date = datetime(2017, 1, 1) # January 1, 2016\n",
    "end_date = datetime(2019, 1, 1)   # January 1, 2018\n",
    "\n",
    "# Get Tesla stock for these dates\n",
    "df = web.DataReader('TSLA', 'stooq', start_date, end_date)\n",
    "df.index = pd.to_datetime(df.index)\n",
    "df.sort_index(inplace=True)\n",
    "\n",
    "df[:5]"
   ]
  },
  {
   "cell_type": "markdown",
   "metadata": {
    "slideshow": {
     "slide_type": "slide"
    }
   },
   "source": [
    "Note that this DataFrame has a special kind of index."
   ]
  },
  {
   "cell_type": "code",
   "execution_count": 5,
   "metadata": {
    "slideshow": {
     "slide_type": "-"
    }
   },
   "outputs": [
    {
     "data": {
      "text/plain": [
       "DatetimeIndex(['2017-01-03', '2017-01-04', '2017-01-05', '2017-01-06',\n",
       "               '2017-01-09', '2017-01-10', '2017-01-11', '2017-01-12',\n",
       "               '2017-01-13', '2017-01-17',\n",
       "               ...\n",
       "               '2018-12-17', '2018-12-18', '2018-12-19', '2018-12-20',\n",
       "               '2018-12-21', '2018-12-24', '2018-12-26', '2018-12-27',\n",
       "               '2018-12-28', '2018-12-31'],\n",
       "              dtype='datetime64[ns]', name='Date', length=502, freq=None)"
      ]
     },
     "execution_count": 5,
     "metadata": {},
     "output_type": "execute_result"
    }
   ],
   "source": [
    "df.index"
   ]
  },
  {
   "cell_type": "code",
   "execution_count": 6,
   "metadata": {
    "slideshow": {
     "slide_type": "fragment"
    }
   },
   "outputs": [
    {
     "data": {
      "text/plain": [
       "Timestamp('2017-01-10 00:00:00')"
      ]
     },
     "execution_count": 6,
     "metadata": {},
     "output_type": "execute_result"
    }
   ],
   "source": [
    "sixth_date = df.index[5]\n",
    "sixth_date"
   ]
  },
  {
   "cell_type": "code",
   "execution_count": 7,
   "metadata": {
    "slideshow": {
     "slide_type": "fragment"
    }
   },
   "outputs": [
    {
     "name": "stdout",
     "output_type": "stream",
     "text": [
      "2017-01-10 00:00:00 corresponds to\n",
      "year 2017\n",
      "month 1\n",
      "day 10\n",
      "day of the week 1\n",
      "quarter 1\n"
     ]
    }
   ],
   "source": [
    "# We can extract year, month, etc.\n",
    "print(sixth_date, 'corresponds to')\n",
    "print('year', sixth_date.year)\n",
    "print('month', sixth_date.month)\n",
    "print('day', sixth_date.day)\n",
    "print('day of the week', sixth_date.dayofweek)  # Monday=0, ..., Sunday=6\n",
    "print('quarter', sixth_date.quarter)"
   ]
  },
  {
   "cell_type": "markdown",
   "metadata": {
    "slideshow": {
     "slide_type": "slide"
    }
   },
   "source": [
    "## Indexing in TimeSeries\n",
    "\n",
    "We can index into this DataFrame using such Timestamp objects."
   ]
  },
  {
   "cell_type": "code",
   "execution_count": 8,
   "metadata": {},
   "outputs": [
    {
     "data": {
      "text/plain": [
       "Open      4.640000e+01\n",
       "High      4.640000e+01\n",
       "Low       4.537800e+01\n",
       "Close     4.597400e+01\n",
       "Volume    1.798244e+07\n",
       "Name: 2017-01-10 00:00:00, dtype: float64"
      ]
     },
     "execution_count": 8,
     "metadata": {},
     "output_type": "execute_result"
    }
   ],
   "source": [
    "df.loc[sixth_date]"
   ]
  },
  {
   "cell_type": "code",
   "execution_count": 9,
   "metadata": {
    "slideshow": {
     "slide_type": "fragment"
    }
   },
   "outputs": [
    {
     "data": {
      "text/plain": [
       "Open      4.640000e+01\n",
       "High      4.640000e+01\n",
       "Low       4.537800e+01\n",
       "Close     4.597400e+01\n",
       "Volume    1.798244e+07\n",
       "Name: 2017-01-10 00:00:00, dtype: float64"
      ]
     },
     "execution_count": 9,
     "metadata": {},
     "output_type": "execute_result"
    }
   ],
   "source": [
    "df.loc['1/10/2017']  # month/day/year"
   ]
  },
  {
   "cell_type": "code",
   "execution_count": 10,
   "metadata": {
    "slideshow": {
     "slide_type": "slide"
    }
   },
   "outputs": [
    {
     "data": {
      "text/plain": [
       "Open      4.640000e+01\n",
       "High      4.640000e+01\n",
       "Low       4.537800e+01\n",
       "Close     4.597400e+01\n",
       "Volume    1.798244e+07\n",
       "Name: 2017-01-10 00:00:00, dtype: float64"
      ]
     },
     "execution_count": 10,
     "metadata": {},
     "output_type": "execute_result"
    }
   ],
   "source": [
    "df.loc['2017-01-10'] # year-month-day"
   ]
  },
  {
   "cell_type": "code",
   "execution_count": 11,
   "metadata": {
    "slideshow": {
     "slide_type": "fragment"
    }
   },
   "outputs": [
    {
     "data": {
      "text/plain": [
       "Open      4.640000e+01\n",
       "High      4.640000e+01\n",
       "Low       4.537800e+01\n",
       "Close     4.597400e+01\n",
       "Volume    1.798244e+07\n",
       "Name: 2017-01-10 00:00:00, dtype: float64"
      ]
     },
     "execution_count": 11,
     "metadata": {},
     "output_type": "execute_result"
    }
   ],
   "source": [
    "df.loc[datetime(year=2017, month=1, day=10)]"
   ]
  },
  {
   "cell_type": "markdown",
   "metadata": {
    "slideshow": {
     "slide_type": "slide"
    }
   },
   "source": [
    "## Slicing in Time Series\n",
    "\n",
    "We can also use any of the indexing methods above to select out slices of a time series."
   ]
  },
  {
   "cell_type": "code",
   "execution_count": 12,
   "metadata": {
    "slideshow": {
     "slide_type": "fragment"
    }
   },
   "outputs": [
    {
     "data": {
      "text/html": [
       "<div>\n",
       "<style scoped>\n",
       "    .dataframe tbody tr th:only-of-type {\n",
       "        vertical-align: middle;\n",
       "    }\n",
       "\n",
       "    .dataframe tbody tr th {\n",
       "        vertical-align: top;\n",
       "    }\n",
       "\n",
       "    .dataframe thead th {\n",
       "        text-align: right;\n",
       "    }\n",
       "</style>\n",
       "<table border=\"1\" class=\"dataframe\">\n",
       "  <thead>\n",
       "    <tr style=\"text-align: right;\">\n",
       "      <th></th>\n",
       "      <th>Open</th>\n",
       "      <th>High</th>\n",
       "      <th>Low</th>\n",
       "      <th>Close</th>\n",
       "      <th>Volume</th>\n",
       "    </tr>\n",
       "    <tr>\n",
       "      <th>Date</th>\n",
       "      <th></th>\n",
       "      <th></th>\n",
       "      <th></th>\n",
       "      <th></th>\n",
       "      <th></th>\n",
       "    </tr>\n",
       "  </thead>\n",
       "  <tbody>\n",
       "    <tr>\n",
       "      <th>2017-01-03</th>\n",
       "      <td>42.972</td>\n",
       "      <td>44.066</td>\n",
       "      <td>42.192</td>\n",
       "      <td>43.398</td>\n",
       "      <td>27645515</td>\n",
       "    </tr>\n",
       "    <tr>\n",
       "      <th>2017-01-04</th>\n",
       "      <td>42.950</td>\n",
       "      <td>45.600</td>\n",
       "      <td>42.862</td>\n",
       "      <td>45.398</td>\n",
       "      <td>55627045</td>\n",
       "    </tr>\n",
       "    <tr>\n",
       "      <th>2017-01-05</th>\n",
       "      <td>45.284</td>\n",
       "      <td>45.496</td>\n",
       "      <td>44.390</td>\n",
       "      <td>45.350</td>\n",
       "      <td>29277385</td>\n",
       "    </tr>\n",
       "    <tr>\n",
       "      <th>2017-01-06</th>\n",
       "      <td>45.386</td>\n",
       "      <td>46.062</td>\n",
       "      <td>45.090</td>\n",
       "      <td>45.802</td>\n",
       "      <td>27321950</td>\n",
       "    </tr>\n",
       "    <tr>\n",
       "      <th>2017-01-09</th>\n",
       "      <td>45.794</td>\n",
       "      <td>46.384</td>\n",
       "      <td>45.600</td>\n",
       "      <td>46.256</td>\n",
       "      <td>19564525</td>\n",
       "    </tr>\n",
       "    <tr>\n",
       "      <th>2017-01-10</th>\n",
       "      <td>46.400</td>\n",
       "      <td>46.400</td>\n",
       "      <td>45.378</td>\n",
       "      <td>45.974</td>\n",
       "      <td>17982445</td>\n",
       "    </tr>\n",
       "  </tbody>\n",
       "</table>\n",
       "</div>"
      ],
      "text/plain": [
       "              Open    High     Low   Close    Volume\n",
       "Date                                                \n",
       "2017-01-03  42.972  44.066  42.192  43.398  27645515\n",
       "2017-01-04  42.950  45.600  42.862  45.398  55627045\n",
       "2017-01-05  45.284  45.496  44.390  45.350  29277385\n",
       "2017-01-06  45.386  46.062  45.090  45.802  27321950\n",
       "2017-01-09  45.794  46.384  45.600  46.256  19564525\n",
       "2017-01-10  46.400  46.400  45.378  45.974  17982445"
      ]
     },
     "execution_count": 12,
     "metadata": {},
     "output_type": "execute_result"
    }
   ],
   "source": [
    "df.loc['1/1/2017':'1/10/2017']"
   ]
  },
  {
   "cell_type": "markdown",
   "metadata": {
    "slideshow": {
     "slide_type": "slide"
    }
   },
   "source": [
    "In addition, Pandas allows us to easily slice by month or year as well."
   ]
  },
  {
   "cell_type": "code",
   "execution_count": 13,
   "metadata": {},
   "outputs": [
    {
     "data": {
      "text/plain": [
       "Date\n",
       "2017-05-01    64.566\n",
       "2017-05-02    63.778\n",
       "2017-05-03    62.204\n",
       "2017-05-04    59.092\n",
       "2017-05-05    61.670\n",
       "2017-05-08    61.438\n",
       "2017-05-09    64.252\n",
       "2017-05-10    65.044\n",
       "2017-05-11    64.620\n",
       "2017-05-12    64.962\n",
       "2017-05-15    63.176\n",
       "2017-05-16    63.402\n",
       "2017-05-17    61.200\n",
       "2017-05-18    62.612\n",
       "2017-05-19    62.166\n",
       "2017-05-22    62.070\n",
       "2017-05-23    60.772\n",
       "2017-05-24    62.044\n",
       "2017-05-25    63.366\n",
       "2017-05-26    65.028\n",
       "2017-05-30    67.020\n",
       "2017-05-31    68.202\n",
       "Name: Close, dtype: float64"
      ]
     },
     "execution_count": 13,
     "metadata": {},
     "output_type": "execute_result"
    }
   ],
   "source": [
    "closings = df['Close']  # Select one column from our DataFrame; this is a Series\n",
    "closings['2017-05']"
   ]
  },
  {
   "cell_type": "code",
   "execution_count": 14,
   "metadata": {
    "slideshow": {
     "slide_type": "slide"
    }
   },
   "outputs": [
    {
     "data": {
      "text/plain": [
       "Date\n",
       "2017-01-03    43.398\n",
       "2017-01-04    45.398\n",
       "2017-01-05    45.350\n",
       "2017-01-06    45.802\n",
       "2017-01-09    46.256\n",
       "               ...  \n",
       "2017-12-22    65.040\n",
       "2017-12-26    63.458\n",
       "2017-12-27    62.328\n",
       "2017-12-28    63.072\n",
       "2017-12-29    62.270\n",
       "Name: Close, Length: 251, dtype: float64"
      ]
     },
     "execution_count": 14,
     "metadata": {},
     "output_type": "execute_result"
    }
   ],
   "source": [
    "closings['2017']"
   ]
  },
  {
   "cell_type": "markdown",
   "metadata": {
    "slideshow": {
     "slide_type": "slide"
    }
   },
   "source": [
    "The general solution to slicing is to create a range of dates and select a slice using that range. There are many options:\n",
    "\n",
    "* For calendar dates, use *date_range()*, with a common case being:\n",
    "\n",
    "   > date_range(start_date, end_date, freq)\n",
    "\n",
    "\n",
    "* The \"freq\" can be:\n",
    "    * 'D' for daily\n",
    "    * 'B' for each business day\n",
    "    * 'W-MON', 'W-TUE', ... for once a week on Monday, Tuesday, ...\n",
    "    * 'M' for monthly\n",
    "    * ...\n",
    "    * 'WOM-3FRI' for third Friday of the month (usual for option expiry dates)"
   ]
  },
  {
   "cell_type": "code",
   "execution_count": 15,
   "metadata": {
    "slideshow": {
     "slide_type": "fragment"
    }
   },
   "outputs": [
    {
     "data": {
      "text/plain": [
       "[Timestamp('2017-01-03 00:00:00', freq='W-TUE'),\n",
       " Timestamp('2017-01-10 00:00:00', freq='W-TUE'),\n",
       " Timestamp('2017-01-17 00:00:00', freq='W-TUE'),\n",
       " Timestamp('2017-01-24 00:00:00', freq='W-TUE'),\n",
       " Timestamp('2017-01-31 00:00:00', freq='W-TUE')]"
      ]
     },
     "execution_count": 15,
     "metadata": {},
     "output_type": "execute_result"
    }
   ],
   "source": [
    "dates = pd.date_range(start='1/3/2017', end='2/3/2017', freq='W-TUE')\n",
    "list(dates)"
   ]
  },
  {
   "cell_type": "code",
   "execution_count": 16,
   "metadata": {
    "slideshow": {
     "slide_type": "slide"
    }
   },
   "outputs": [
    {
     "data": {
      "text/html": [
       "<div>\n",
       "<style scoped>\n",
       "    .dataframe tbody tr th:only-of-type {\n",
       "        vertical-align: middle;\n",
       "    }\n",
       "\n",
       "    .dataframe tbody tr th {\n",
       "        vertical-align: top;\n",
       "    }\n",
       "\n",
       "    .dataframe thead th {\n",
       "        text-align: right;\n",
       "    }\n",
       "</style>\n",
       "<table border=\"1\" class=\"dataframe\">\n",
       "  <thead>\n",
       "    <tr style=\"text-align: right;\">\n",
       "      <th></th>\n",
       "      <th>Open</th>\n",
       "      <th>High</th>\n",
       "      <th>Low</th>\n",
       "      <th>Close</th>\n",
       "      <th>Volume</th>\n",
       "    </tr>\n",
       "  </thead>\n",
       "  <tbody>\n",
       "    <tr>\n",
       "      <th>2017-01-03</th>\n",
       "      <td>42.972</td>\n",
       "      <td>44.066</td>\n",
       "      <td>42.192</td>\n",
       "      <td>43.398</td>\n",
       "      <td>27645515</td>\n",
       "    </tr>\n",
       "    <tr>\n",
       "      <th>2017-01-10</th>\n",
       "      <td>46.400</td>\n",
       "      <td>46.400</td>\n",
       "      <td>45.378</td>\n",
       "      <td>45.974</td>\n",
       "      <td>17982445</td>\n",
       "    </tr>\n",
       "    <tr>\n",
       "      <th>2017-01-17</th>\n",
       "      <td>47.340</td>\n",
       "      <td>47.992</td>\n",
       "      <td>46.874</td>\n",
       "      <td>47.116</td>\n",
       "      <td>22997155</td>\n",
       "    </tr>\n",
       "    <tr>\n",
       "      <th>2017-01-24</th>\n",
       "      <td>50.000</td>\n",
       "      <td>50.960</td>\n",
       "      <td>49.930</td>\n",
       "      <td>50.922</td>\n",
       "      <td>23902995</td>\n",
       "    </tr>\n",
       "    <tr>\n",
       "      <th>2017-01-31</th>\n",
       "      <td>49.848</td>\n",
       "      <td>51.178</td>\n",
       "      <td>49.540</td>\n",
       "      <td>50.386</td>\n",
       "      <td>20264285</td>\n",
       "    </tr>\n",
       "  </tbody>\n",
       "</table>\n",
       "</div>"
      ],
      "text/plain": [
       "              Open    High     Low   Close    Volume\n",
       "2017-01-03  42.972  44.066  42.192  43.398  27645515\n",
       "2017-01-10  46.400  46.400  45.378  45.974  17982445\n",
       "2017-01-17  47.340  47.992  46.874  47.116  22997155\n",
       "2017-01-24  50.000  50.960  49.930  50.922  23902995\n",
       "2017-01-31  49.848  51.178  49.540  50.386  20264285"
      ]
     },
     "execution_count": 16,
     "metadata": {},
     "output_type": "execute_result"
    }
   ],
   "source": [
    "df.loc[dates]"
   ]
  },
  {
   "cell_type": "markdown",
   "metadata": {
    "slideshow": {
     "slide_type": "slide"
    }
   },
   "source": [
    "## Shifting time series\n",
    "\n",
    "One special operation with time series is to move backward or forward in time. For instance:\n",
    "\n",
    "### What is the percentage daily change in closing price?"
   ]
  },
  {
   "cell_type": "code",
   "execution_count": 17,
   "metadata": {
    "slideshow": {
     "slide_type": "fragment"
    }
   },
   "outputs": [
    {
     "data": {
      "text/plain": [
       "Date\n",
       "2017-01-03    43.398\n",
       "2017-01-04    45.398\n",
       "2017-01-05    45.350\n",
       "2017-01-06    45.802\n",
       "2017-01-09    46.256\n",
       "2017-01-10    45.974\n",
       "2017-01-11    45.946\n",
       "2017-01-12    45.918\n",
       "2017-01-13    47.550\n",
       "2017-01-17    47.116\n",
       "Name: Close, dtype: float64"
      ]
     },
     "execution_count": 17,
     "metadata": {},
     "output_type": "execute_result"
    }
   ],
   "source": [
    "closes = df['Close']\n",
    "closes[:10]"
   ]
  },
  {
   "cell_type": "code",
   "execution_count": 18,
   "metadata": {
    "slideshow": {
     "slide_type": "slide"
    }
   },
   "outputs": [
    {
     "data": {
      "text/plain": [
       "Date\n",
       "2017-01-03       NaN\n",
       "2017-01-04    43.398\n",
       "2017-01-05    45.398\n",
       "2017-01-06    45.350\n",
       "2017-01-09    45.802\n",
       "Name: Close, dtype: float64"
      ]
     },
     "execution_count": 18,
     "metadata": {},
     "output_type": "execute_result"
    }
   ],
   "source": [
    "yesterdays_closes = closes.shift(1)\n",
    "yesterdays_closes[:5]"
   ]
  },
  {
   "cell_type": "code",
   "execution_count": 19,
   "metadata": {
    "slideshow": {
     "slide_type": "fragment"
    }
   },
   "outputs": [
    {
     "data": {
      "text/plain": [
       "Date\n",
       "2017-01-03         NaN\n",
       "2017-01-04    4.608507\n",
       "2017-01-05   -0.105732\n",
       "2017-01-06    0.996692\n",
       "2017-01-09    0.991223\n",
       "Name: percent change, dtype: float64"
      ]
     },
     "execution_count": 19,
     "metadata": {},
     "output_type": "execute_result"
    }
   ],
   "source": [
    "df['percent change'] = (closes / yesterdays_closes - 1) * 100\n",
    "df['percent change'][:5]"
   ]
  },
  {
   "cell_type": "markdown",
   "metadata": {
    "slideshow": {
     "slide_type": "slide"
    }
   },
   "source": [
    "## Aggregate total trading volume by month\n",
    "\n",
    "This is accomplished using the _resample()_ method. For example:"
   ]
  },
  {
   "cell_type": "code",
   "execution_count": 20,
   "metadata": {
    "slideshow": {
     "slide_type": "fragment"
    }
   },
   "outputs": [
    {
     "data": {
      "text/plain": [
       "Date\n",
       "2017-01    489796480\n",
       "2017-02    582778600\n",
       "2017-03    526498485\n",
       "2017-04    577682525\n",
       "2017-05    737827740\n",
       "2017-06    925735910\n",
       "2017-07    905919195\n",
       "2017-08    678431995\n",
       "2017-09    556543435\n",
       "2017-10    614083540\n",
       "Freq: M, Name: Volume, dtype: int64"
      ]
     },
     "execution_count": 20,
     "metadata": {},
     "output_type": "execute_result"
    }
   ],
   "source": [
    "df['Volume'].resample('M', kind='period').sum()[:10]"
   ]
  },
  {
   "cell_type": "markdown",
   "metadata": {
    "slideshow": {
     "slide_type": "fragment"
    }
   },
   "source": [
    "Let us understand the details of this function.\n",
    "\n",
    "    df['volume'].resample('M', kind='period').sum()\n",
    "\n",
    "* This takes the Volume series, which is indexed on a daily basis,\n",
    "* _\"resamples\"_ it on a monthly basis (the 'M'),\n",
    "*  using the corresponding period as the index, e.g., the month '2017-01',\n",
    "* and aggregates the volumes on all days in the month using the 'sum' function."
   ]
  },
  {
   "cell_type": "markdown",
   "metadata": {
    "slideshow": {
     "slide_type": "slide"
    }
   },
   "source": [
    "### Find the average closing price every week"
   ]
  },
  {
   "cell_type": "code",
   "execution_count": 21,
   "metadata": {
    "slideshow": {
     "slide_type": "fragment"
    }
   },
   "outputs": [
    {
     "data": {
      "text/plain": [
       "Date\n",
       "2017-01-02/2017-01-08    44.9870\n",
       "2017-01-09/2017-01-15    46.3288\n",
       "2017-01-16/2017-01-22    48.1215\n",
       "2017-01-23/2017-01-29    50.5388\n",
       "2017-01-30/2017-02-05    50.1864\n",
       "2017-02-06/2017-02-12    52.6304\n",
       "2017-02-13/2017-02-19    55.3008\n",
       "2017-02-20/2017-02-26    53.1945\n",
       "2017-02-27/2017-03-05    49.9316\n",
       "2017-03-06/2017-03-12    49.4088\n",
       "Freq: W-SUN, Name: Close, dtype: float64"
      ]
     },
     "execution_count": 21,
     "metadata": {},
     "output_type": "execute_result"
    }
   ],
   "source": [
    "df['Close'].resample('W', kind='period').mean()[:10]"
   ]
  },
  {
   "cell_type": "markdown",
   "metadata": {
    "slideshow": {
     "slide_type": "slide"
    }
   },
   "source": [
    "## Moving averages\n",
    "\n",
    "A common statistical technique is to smooth a time series by averaging over a time window. For example, a weekly moving average of a time series has, for each day, the average value of the time series over the previous week.\n",
    "\n",
    "### Get the 30-day moving average"
   ]
  },
  {
   "cell_type": "code",
   "execution_count": 22,
   "metadata": {
    "slideshow": {
     "slide_type": "fragment"
    }
   },
   "outputs": [
    {
     "data": {
      "text/plain": [
       "Date\n",
       "2017-01-10          NaN\n",
       "2017-01-11          NaN\n",
       "2017-01-12          NaN\n",
       "2017-01-13          NaN\n",
       "2017-01-17    45.870800\n",
       "2017-01-18    46.034545\n",
       "2017-01-19    46.261000\n",
       "Name: Close, dtype: float64"
      ]
     },
     "execution_count": 22,
     "metadata": {},
     "output_type": "execute_result"
    }
   ],
   "source": [
    "moving_avg_30 = df['Close'].rolling(window=30, min_periods=10).mean()\n",
    "moving_avg_30[5:12]"
   ]
  },
  {
   "cell_type": "markdown",
   "metadata": {
    "slideshow": {
     "slide_type": "slide"
    }
   },
   "source": [
    "What does this mean?\n",
    "\n",
    "    df['Close'].rolling(window=30, min_periods=10).mean()\n",
    "\n",
    "* **df['Close']**: use this time series\n",
    "\n",
    "* **window=30**: take a window of closes over the past 30 days\n",
    "\n",
    "* **min_periods=10**: If the past 30 days don't exist (say, today is the 25th day from the start of the time series), what do we do? This option says:\n",
    "    * for the first 10 days of the time series, the moving average doesn't exist (NaN)\n",
    "    * from the 10th to 30th day, take the average of as many days as are available (so for the 25th day, we average the past 25 days)\n",
    "    * from the 30th day onwards, take the average of the past 30 days\n",
    "\n",
    "* **mean()**: Compute the mean for this rolling window"
   ]
  },
  {
   "cell_type": "markdown",
   "metadata": {
    "slideshow": {
     "slide_type": "slide"
    }
   },
   "source": [
    "### Plot the daily closes and the 30-day moving average"
   ]
  },
  {
   "cell_type": "code",
   "execution_count": 23,
   "metadata": {
    "slideshow": {
     "slide_type": "fragment"
    }
   },
   "outputs": [
    {
     "data": {
      "image/png": "[encoded data removed]",
      "text/plain": [
       "<Figure size 432x288 with 1 Axes>"
      ]
     },
     "metadata": {
      "needs_background": "light"
     },
     "output_type": "display_data"
    }
   ],
   "source": [
    "df['Close'].plot(label='Daily close')\n",
    "df['Close'].rolling(window=30, min_periods=10).mean().plot(label='30-day average')\n",
    "ylabel('Stock price')\n",
    "legend(loc='best')\n",
    "show()"
   ]
  },
  {
   "cell_type": "markdown",
   "metadata": {
    "slideshow": {
     "slide_type": "slide"
    }
   },
   "source": [
    "## Trading simulator\n",
    "\n",
    "A common trading rule says: buy when the 30-day moving average goes above the 180-day moving average (the BUY rule), and sell when it goes below (the SELL rule)."
   ]
  },
  {
   "cell_type": "markdown",
   "metadata": {
    "slideshow": {
     "slide_type": "fragment"
    }
   },
   "source": [
    "Let us assume you buy 1 share at the closing price the very day the BUY rule triggers, and sell that 1 share the day the SELL rule triggers. (This is cheating a little because we need that day's closing price to compute the averages, but let's gloss over that.) At the end, we want the overall return.\n",
    "\n",
    "How do we do this?"
   ]
  },
  {
   "cell_type": "markdown",
   "metadata": {
    "slideshow": {
     "slide_type": "slide"
    }
   },
   "source": [
    "* Step 1: Compute the daily return ratio, i.e., the ratio of today's closing price to yesterday's closing price.\n",
    "* Step 2: Create a mask of the days when I hold the share, i.e., the BUY rule has triggered, but the SELL rule has not.\n",
    "* Step 3: Compute the cumulative return ratio over the days of the mask. This is the product of the return ratios on the days I hold the share.\n",
    "\n"
   ]
  },
  {
   "cell_type": "markdown",
   "metadata": {
    "slideshow": {
     "slide_type": "slide"
    }
   },
   "source": [
    "**Step 1: Daily returns**\n",
    "\n",
    "We've already seen this."
   ]
  },
  {
   "cell_type": "code",
   "execution_count": 24,
   "metadata": {
    "slideshow": {
     "slide_type": "fragment"
    }
   },
   "outputs": [
    {
     "data": {
      "text/plain": [
       "Date\n",
       "2017-01-03         NaN\n",
       "2017-01-04    1.046085\n",
       "2017-01-05    0.998943\n",
       "2017-01-06    1.009967\n",
       "2017-01-09    1.009912\n",
       "2017-01-10    0.993903\n",
       "2017-01-11    0.999391\n",
       "2017-01-12    0.999391\n",
       "2017-01-13    1.035542\n",
       "2017-01-17    0.990873\n",
       "Name: Close, dtype: float64"
      ]
     },
     "execution_count": 24,
     "metadata": {},
     "output_type": "execute_result"
    }
   ],
   "source": [
    "closes = df['Close']\n",
    "daily_return_ratio = closes / closes.shift(1)\n",
    "daily_return_ratio[:10]"
   ]
  },
  {
   "cell_type": "markdown",
   "metadata": {
    "slideshow": {
     "slide_type": "slide"
    }
   },
   "source": [
    "**Step 2: Mask of days when we hold share**\n",
    "\n",
    "How do we do this?"
   ]
  },
  {
   "cell_type": "markdown",
   "metadata": {
    "slideshow": {
     "slide_type": "fragment"
    }
   },
   "source": [
    "* Compute the 30-day and 180-day moving averages"
   ]
  },
  {
   "cell_type": "markdown",
   "metadata": {
    "slideshow": {
     "slide_type": "fragment"
    }
   },
   "source": [
    "* Find the days when the 30-day average is greater than the 180-day average."
   ]
  },
  {
   "cell_type": "markdown",
   "metadata": {
    "slideshow": {
     "slide_type": "fragment"
    }
   },
   "source": [
    "* On which days do I hold the share?"
   ]
  },
  {
   "cell_type": "markdown",
   "metadata": {
    "slideshow": {
     "slide_type": "slide"
    }
   },
   "source": [
    " Consider the following example:\n",
    "\n",
    "* The 30-day average is greater than the 180-day average on 5th Jan, 6th Jan, ..., 11th Jan. It falls below the 180-day average on 12th Jan."
   ]
  },
  {
   "cell_type": "markdown",
   "metadata": {
    "slideshow": {
     "slide_type": "fragment"
    }
   },
   "source": [
    "* So we buy the share at close of 5th Jan, sell at the close of 12th Jan."
   ]
  },
  {
   "cell_type": "markdown",
   "metadata": {
    "slideshow": {
     "slide_type": "fragment"
    }
   },
   "source": [
    "* Hence we _held_ the share (and got its returns) for 6th Jan, 7th Jan, ..., 12th Jan."
   ]
  },
  {
   "cell_type": "markdown",
   "metadata": {
    "slideshow": {
     "slide_type": "fragment"
    }
   },
   "source": [
    "* On which days do I hold the share?\n",
    "    * The days we hold the share is shifted one day from the period the 30-day moving average is higher."
   ]
  },
  {
   "cell_type": "markdown",
   "metadata": {
    "slideshow": {
     "slide_type": "slide"
    }
   },
   "source": [
    "**Step 2: Mask of days when we hold share**\n",
    "\n",
    "1. Compute the 30-day and 180-day moving averages\n",
    "2. Find the days when the 30-day average is greater than the 180-day average.\n",
    "3. The days we hold the share is shifted one day from the periods found in Step 2."
   ]
  },
  {
   "cell_type": "markdown",
   "metadata": {
    "slideshow": {
     "slide_type": "slide"
    }
   },
   "source": [
    "**Step 2.1:** Moving averages"
   ]
  },
  {
   "cell_type": "code",
   "execution_count": 25,
   "metadata": {
    "slideshow": {
     "slide_type": "fragment"
    }
   },
   "outputs": [
    {
     "data": {
      "image/png": "[encoded data removed]",
      "text/plain": [
       "<Figure size 432x288 with 1 Axes>"
      ]
     },
     "metadata": {
      "needs_background": "light"
     },
     "output_type": "display_data"
    }
   ],
   "source": [
    "mavg_30 = closes.rolling(window=30, min_periods=10).mean()\n",
    "mavg_180 = closes.rolling(window=180, min_periods=10).mean()\n",
    "\n",
    "closes.plot(label='Daily close')\n",
    "mavg_30.plot(label='30-day average')\n",
    "mavg_180.plot(label='180-day average')\n",
    "ylabel('Stock price')\n",
    "legend(loc='best')\n",
    "figsize(8,6)"
   ]
  },
  {
   "cell_type": "markdown",
   "metadata": {
    "slideshow": {
     "slide_type": "slide"
    }
   },
   "source": [
    "**Step 2.2:** Find the days the 30-day average is greater."
   ]
  },
  {
   "cell_type": "code",
   "execution_count": 26,
   "metadata": {
    "slideshow": {
     "slide_type": "fragment"
    }
   },
   "outputs": [
    {
     "data": {
      "text/plain": [
       "Date\n",
       "2017-02-08    False\n",
       "2017-02-09    False\n",
       "2017-02-10    False\n",
       "2017-02-13    False\n",
       "2017-02-14    False\n",
       "2017-02-15     True\n",
       "2017-02-16     True\n",
       "2017-02-17     True\n",
       "2017-02-21     True\n",
       "2017-02-22     True\n",
       "Name: Close, dtype: bool"
      ]
     },
     "execution_count": 26,
     "metadata": {},
     "output_type": "execute_result"
    }
   ],
   "source": [
    "mavg_30_is_greater = (mavg_30 > mavg_180)\n",
    "mavg_30_is_greater['2017-02-08':'2017-02-22']"
   ]
  },
  {
   "cell_type": "markdown",
   "metadata": {
    "slideshow": {
     "slide_type": "slide"
    }
   },
   "source": [
    "**Step 2.3:** Hold on the days the 30-day moving average is greater, but shifted by 1."
   ]
  },
  {
   "cell_type": "code",
   "execution_count": 27,
   "metadata": {
    "slideshow": {
     "slide_type": "fragment"
    }
   },
   "outputs": [
    {
     "data": {
      "text/plain": [
       "Date\n",
       "2017-02-08    False\n",
       "2017-02-09    False\n",
       "2017-02-10    False\n",
       "2017-02-13    False\n",
       "2017-02-14    False\n",
       "2017-02-15    False\n",
       "2017-02-16     True\n",
       "2017-02-17     True\n",
       "2017-02-21     True\n",
       "2017-02-22     True\n",
       "Name: Close, dtype: object"
      ]
     },
     "execution_count": 27,
     "metadata": {},
     "output_type": "execute_result"
    }
   ],
   "source": [
    "hold_days = mavg_30_is_greater.shift(1)\n",
    "hold_days['2017-02-08':'2017-02-22']"
   ]
  },
  {
   "cell_type": "markdown",
   "metadata": {
    "slideshow": {
     "slide_type": "slide"
    }
   },
   "source": [
    "The story so far:\n",
    "\n",
    "* We computed daily returns\n",
    "* We computed the days on which we hold the share\n",
    "\n",
    "What's left?"
   ]
  },
  {
   "cell_type": "markdown",
   "metadata": {
    "slideshow": {
     "slide_type": "fragment"
    }
   },
   "source": [
    "* Compute daily returns just on the days we hold the share\n",
    "    * and take the product of these daily returns"
   ]
  },
  {
   "cell_type": "code",
   "execution_count": 28,
   "metadata": {
    "slideshow": {
     "slide_type": "slide"
    }
   },
   "outputs": [
    {
     "data": {
      "text/plain": [
       "Date\n",
       "2017-01-03      NaN\n",
       "2017-01-04    False\n",
       "2017-01-05    False\n",
       "Name: Close, dtype: object"
      ]
     },
     "execution_count": 28,
     "metadata": {},
     "output_type": "execute_result"
    }
   ],
   "source": [
    "# One little problem\n",
    "hold_days[0:3]"
   ]
  },
  {
   "cell_type": "markdown",
   "metadata": {},
   "source": [
    "The first date is NaN, because of the shift(). We cannot use hold_days as a mask for daily_return_ratio because the mask must contain only False or True. So let's fix it."
   ]
  },
  {
   "cell_type": "code",
   "execution_count": 29,
   "metadata": {
    "slideshow": {
     "slide_type": "fragment"
    }
   },
   "outputs": [
    {
     "data": {
      "text/plain": [
       "Date\n",
       "2017-01-03    False\n",
       "2017-01-04    False\n",
       "2017-01-05    False\n",
       "Name: Close, dtype: bool"
      ]
     },
     "execution_count": 29,
     "metadata": {},
     "output_type": "execute_result"
    }
   ],
   "source": [
    "hold_days = hold_days.fillna(False)  # we don't hold shares on the first day\n",
    "hold_days[0:3]"
   ]
  },
  {
   "cell_type": "markdown",
   "metadata": {
    "slideshow": {
     "slide_type": "fragment"
    }
   },
   "source": [
    "Let's see the period when we hold the share"
   ]
  },
  {
   "cell_type": "code",
   "execution_count": 30,
   "metadata": {
    "slideshow": {
     "slide_type": "slide"
    }
   },
   "outputs": [
    {
     "data": {
      "text/plain": [
       "[Text(0, 0.0, ''),\n",
       " Text(0, 0.5, ''),\n",
       " Text(0, 1.0, ''),\n",
       " Text(0, 1.5, ''),\n",
       " Text(0, 2.0, '')]"
      ]
     },
     "execution_count": 30,
     "metadata": {},
     "output_type": "execute_result"
    },
    {
     "data": {
      "image/png": "[encoded data removed]",
      "text/plain": [
       "<Figure size 576x432 with 2 Axes>"
      ]
     },
     "metadata": {
      "needs_background": "light"
     },
     "output_type": "display_data"
    }
   ],
   "source": [
    "fig, (ax1, ax2) = subplots(nrows=2,\n",
    "                           ncols=1,\n",
    "                           sharex=True,\n",
    "                           figsize=(8, 6))\n",
    "\n",
    "closes.plot(ax=ax1, label='Daily close')\n",
    "mavg_30.plot(ax=ax1, label='30-day average')\n",
    "mavg_180.plot(ax=ax1, label='180-day average')\n",
    "ax1.legend(loc='best')\n",
    "ax1.set_ylabel('Stock price')\n",
    "\n",
    "hold_days.astype(int).plot(ax=ax2, ylim=[0,2], label='Moving average signal')\n",
    "ax2.legend(loc='best')\n",
    "ax2.yaxis.set_ticklabels([])"
   ]
  },
  {
   "cell_type": "markdown",
   "metadata": {
    "slideshow": {
     "slide_type": "slide"
    }
   },
   "source": [
    "**Finally: Compute cumulative return**"
   ]
  },
  {
   "cell_type": "code",
   "execution_count": 31,
   "metadata": {},
   "outputs": [
    {
     "data": {
      "text/plain": [
       "Date\n",
       "2017-02-16    0.961360\n",
       "2017-02-17    1.012196\n",
       "2017-02-21    1.018955\n",
       "2017-02-22    0.986012\n",
       "2017-02-23    0.935944\n",
       "Name: Close, dtype: float64"
      ]
     },
     "execution_count": 31,
     "metadata": {},
     "output_type": "execute_result"
    }
   ],
   "source": [
    "# What are the returns on the days we hold the share?\n",
    "s = daily_return_ratio[hold_days]\n",
    "s[:5]"
   ]
  },
  {
   "cell_type": "code",
   "execution_count": 32,
   "metadata": {},
   "outputs": [
    {
     "name": "stdout",
     "output_type": "stream",
     "text": [
      "Overall return ratio = 0.8371918810831809\n"
     ]
    }
   ],
   "source": [
    "# Overall return is the product of the returns on each day we held a share.\n",
    "print('Overall return ratio =', s.prod())"
   ]
  },
  {
   "cell_type": "markdown",
   "metadata": {
    "slideshow": {
     "slide_type": "fragment"
    }
   },
   "source": [
    "Is this good? Let's compare to a buy-and-hold strategy, where we buy on the first day and sell on the last."
   ]
  },
  {
   "cell_type": "code",
   "execution_count": 33,
   "metadata": {
    "slideshow": {
     "slide_type": "fragment"
    }
   },
   "outputs": [
    {
     "name": "stdout",
     "output_type": "stream",
     "text": [
      "Return of buy-and-hold = 1.5337112309323047\n"
     ]
    }
   ],
   "source": [
    "print('Return of buy-and-hold =', daily_return_ratio.prod())"
   ]
  },
  {
   "cell_type": "markdown",
   "metadata": {
    "slideshow": {
     "slide_type": "slide"
    }
   },
   "source": [
    "Let's see how the cumulative return of the moving average strategy compares to buy-and-hold."
   ]
  },
  {
   "cell_type": "code",
   "execution_count": 34,
   "metadata": {
    "slideshow": {
     "slide_type": "fragment"
    }
   },
   "outputs": [
    {
     "data": {
      "image/png": "[encoded data removed]",
      "text/plain": [
       "<Figure size 576x432 with 1 Axes>"
      ]
     },
     "metadata": {
      "needs_background": "light"
     },
     "output_type": "display_data"
    }
   ],
   "source": [
    "s.cumprod().plot(label='Moving average strategy')\n",
    "daily_return_ratio.cumprod().plot(label='Buy and hold strategy')\n",
    "ylabel('Return ratio')\n",
    "legend(loc='best')\n",
    "figsize(12,8)"
   ]
  },
  {
   "cell_type": "markdown",
   "metadata": {
    "slideshow": {
     "slide_type": "skip"
    }
   },
   "source": [
    "* By the time the moving average strategy sells, the downturn has already hit hard.\n",
    "* By the time it buys, prices have already gone up quite a bit."
   ]
  }
 ],
 "metadata": {
  "celltoolbar": "Slideshow",
  "kernelspec": {
   "display_name": "Python 3 (ipykernel)",
   "language": "python",
   "name": "python3"
  },
  "language_info": {
   "codemirror_mode": {
    "name": "ipython",
    "version": 3
   },
   "file_extension": ".py",
   "mimetype": "text/x-python",
   "name": "python",
   "nbconvert_exporter": "python",
   "pygments_lexer": "ipython3",
   "version": "3.7.10"
  }
 },
 "nbformat": 4,
 "nbformat_minor": 1
}
