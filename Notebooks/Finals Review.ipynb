{
 "cells": [
  {
   "cell_type": "markdown",
   "metadata": {
    "slideshow": {
     "slide_type": "slide"
    }
   },
   "source": [
    "# Finals Review"
   ]
  },
  {
   "cell_type": "code",
   "execution_count": 1,
   "metadata": {
    "slideshow": {
     "slide_type": "skip"
    }
   },
   "outputs": [
    {
     "name": "stdout",
     "output_type": "stream",
     "text": [
      "Populating the interactive namespace from numpy and matplotlib\n"
     ]
    }
   ],
   "source": [
    "from pandas import Series, DataFrame\n",
    "import pandas as pd\n",
    "import statsmodels as sm\n",
    "%pylab inline"
   ]
  },
  {
   "cell_type": "markdown",
   "metadata": {
    "slideshow": {
     "slide_type": "slide"
    }
   },
   "source": [
    "## Exam Structure\n",
    "\n",
    "* Type up your answers in one Jupyter notebook\n",
    "* **All** material covered so far in class lectures is fair game!\n",
    "    * Basic python\n",
    "    * Pandas\n",
    "    * Classification and Clustering\n",
    "* Exam is open-notes, open-book, open-laptop, open-Google."
   ]
  },
  {
   "cell_type": "markdown",
   "metadata": {
    "slideshow": {
     "slide_type": "slide"
    }
   },
   "source": [
    "* Some coding questions\n",
    "    * Give a brief explanation\n",
    "    * Show the code\n",
    "    * Don't write huge blocks of code; use functions\n",
    "    * Show the result\n",
    "* Some conceptual questions\n",
    "    * Give your answer\n",
    "    * and a brief explanation"
   ]
  },
  {
   "cell_type": "markdown",
   "metadata": {
    "slideshow": {
     "slide_type": "slide"
    }
   },
   "source": [
    "## How to think about a Pandas question\n",
    "\n",
    "#### Do something _if some condition holds_ ==> **a mask**\n",
    "\n",
    "```\n",
    "mask = (some condition)\n",
    "df[mask]\n",
    "```"
   ]
  },
  {
   "cell_type": "markdown",
   "metadata": {
    "slideshow": {
     "slide_type": "slide"
    }
   },
   "source": [
    "There are two common cases:\n",
    "\n",
    "1. all the information you need for the condition exists in some columns\n",
    "    * _\"if there are more democrats than republicans\"_\n",
    "    * and you have a column for number of democrats, and another for number of republicans\n",
    "\n",
    "    `mask = (df['dem'] > df['rep'])`\n",
    "\n",
    "2. the information you need for the condition is in different pieces\n",
    "    * _\"if higher rating for this particular Dennys/Wendys/etc. than for the chain in general\"_\n",
    "    * DataFrame df has rating for each restaurant"
   ]
  },
  {
   "cell_type": "markdown",
   "metadata": {
    "slideshow": {
     "slide_type": "slide"
    }
   },
   "source": [
    "For the second case:\n",
    "\n",
    "* Create all the pieces:\n",
    "    * e.g., average rating for each chain ==> **groupby or pivot_table**\n",
    "    * say, output is a dataframe called _averageRatings_, with columns being _restaurantName_ and _avgRating_\n",
    "* **Merge** this into the dataframe\n",
    "    \n",
    "```\n",
    "pd.merge(df, averageRating,\n",
    "         left_on=restaurantName,\n",
    "         right_on=restaurantName)\n",
    "```\n",
    "\n",
    "* Now, all information is available in the columns of the merged dataframe"
   ]
  },
  {
   "cell_type": "markdown",
   "metadata": {
    "slideshow": {
     "slide_type": "slide"
    }
   },
   "source": [
    "### Do something for every row\n",
    "\n",
    "* If the information is in ONE column only\n",
    "    * _\"convert account value column from EURO to USD\"_\n",
    "    * **map**"
   ]
  },
  {
   "cell_type": "markdown",
   "metadata": {
    "slideshow": {
     "slide_type": "fragment"
    }
   },
   "source": [
    "* If the information exists in multiple columns of the dataframe\n",
    "    * Can we do it via Series operations?\n",
    "        * _\"multiply the price-per-part column by number-of-parts column\"_\n",
    "        > <code>df['price per part'] * df['number of parts']</code>  \n",
    "    * If it is too complicated for Series operations\n",
    "        * transpose the dataframe (rows to columns, and vice versa)\n",
    "        * look at next slide"
   ]
  },
  {
   "cell_type": "markdown",
   "metadata": {
    "slideshow": {
     "slide_type": "slide"
    }
   },
   "source": [
    " ### Do something for each column\n",
    " \n",
    " * Use **apply**\n",
    "     * _\"Compute maximum - minimum votes for each candidate\"_\n",
    "     * df has one column for each candidate"
   ]
  },
  {
   "cell_type": "code",
   "execution_count": 2,
   "metadata": {
    "slideshow": {
     "slide_type": "fragment"
    }
   },
   "outputs": [],
   "source": [
    "def functionToApply(s):\n",
    "# s is a Series, corresponding to one column of the dataframe\n",
    "# For example, s = Series corresponding to Trump\n",
    "\n",
    "    return s.max() - s.min()"
   ]
  },
  {
   "cell_type": "markdown",
   "metadata": {
    "slideshow": {
     "slide_type": "fragment"
    }
   },
   "source": [
    "> df.apply(functionToApply)"
   ]
  },
  {
   "cell_type": "markdown",
   "metadata": {
    "slideshow": {
     "slide_type": "fragment"
    }
   },
   "source": [
    "### Do something for only a few columns\n",
    "\n",
    "> df[['col1', 'col2', 'col3']].apply(functionToApply)"
   ]
  },
  {
   "cell_type": "markdown",
   "metadata": {
    "slideshow": {
     "slide_type": "slide"
    }
   },
   "source": [
    "### Do something for each TYPE\n",
    "\n",
    "* The types in question are the **values** of a particular column\n",
    "    * _\"Compute average votes for Democrats\"_\n",
    "    * df has a column called _Party_, whose values are _Democrats_ or _Republicans_\n",
    "    * **groupby** or **pivot_table**\n",
    "\n",
    "* The types are not the values of any column\n",
    "    * _\"Count the average rating of each kind of chain restaurant\"_\n",
    "    * df only has _restaurantName_ and _rating_"
   ]
  },
  {
   "cell_type": "markdown",
   "metadata": {
    "slideshow": {
     "slide_type": "fragment"
    }
   },
   "source": [
    "For the second case:\n",
    "\n",
    "* Create a new dataframe with rows _restaurantName_ and _chainOrNot_\n",
    "    * If you get this as a Series, you can create a new dataframe with this Series as the only column\n",
    "* **Merge** this with the old dataframe\n",
    "    * So we now have _restaurantName_, _rating_, and _chainOrNot_ as columns\n",
    "* Now, do **groupby** or **pivot_table**"
   ]
  },
  {
   "cell_type": "markdown",
   "metadata": {
    "slideshow": {
     "slide_type": "slide"
    }
   },
   "source": [
    "## The basic concepts for all the classifiers\n",
    "\n",
    "| Classifier | Idea |\n",
    "|------------|------|\n",
    "| K Nearest Neighbors | Neighbors (in terms of feature values) tend to have the same class |\n",
    "| Naive Bayes | Each feature value **independently** affects likelihoods |\n",
    "| Logistic Regression | The positive and negative classes can be separated by a line/plane/hyperplane |\n",
    "| Decision Trees | A bunch of axis-aligned splits, where each split looks at only one feature |"
   ]
  },
  {
   "cell_type": "markdown",
   "metadata": {
    "slideshow": {
     "slide_type": "skip"
    }
   },
   "source": [
    "| Naive Bayes | Each feature value **independently** affects likelihoods |"
   ]
  },
  {
   "cell_type": "markdown",
   "metadata": {
    "slideshow": {
     "slide_type": "slide"
    }
   },
   "source": [
    "### Coding it up\n",
    "\n",
    "* Create design matrices\n",
    "* Create the train and test sets \n",
    "    * *train_test_split()* if the training and testing sets are not provided separately\n",
    "* Create model\n",
    "> model = neighbors.KNeighborsClassifier(n_neighbors=15)\n",
    "* Fit the model to the data\n",
    "> model.fit(X_train, y_train)\n",
    "* Predict on test data\n",
    "> model.predict(X_test)"
   ]
  },
  {
   "cell_type": "markdown",
   "metadata": {
    "slideshow": {
     "slide_type": "skip"
    }
   },
   "source": [
    "## Instructor Survey\n",
    "\n",
    "* We'll have it at the end of class on Wednesday next week\n",
    "    * right after project presentations\n",
    "\n",
    "* Need one volunteer\n",
    "    * Please pick up survey packets from the Dean’s office (GSB 2.104)\n",
    "    * Please bring your Photo ID!\n",
    "    * The packet has instructions on it…"
   ]
  }
 ],
 "metadata": {
  "anaconda-cloud": {},
  "celltoolbar": "Slideshow",
  "kernelspec": {
   "display_name": "Python 3 (ipykernel)",
   "language": "python",
   "name": "python3"
  },
  "language_info": {
   "codemirror_mode": {
    "name": "ipython",
    "version": 3
   },
   "file_extension": ".py",
   "mimetype": "text/x-python",
   "name": "python",
   "nbconvert_exporter": "python",
   "pygments_lexer": "ipython3",
   "version": "3.7.10"
  }
 },
 "nbformat": 4,
 "nbformat_minor": 1
}
