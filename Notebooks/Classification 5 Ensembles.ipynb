{
 "cells": [
  {
   "cell_type": "markdown",
   "metadata": {
    "slideshow": {
     "slide_type": "slide"
    }
   },
   "source": [
    "# Classification 5\n",
    "\n",
    "We will discuss ensemble methods, particularly for decision trees."
   ]
  },
  {
   "cell_type": "markdown",
   "metadata": {
    "slideshow": {
     "slide_type": "slide"
    }
   },
   "source": [
    "## Example: Spam classification\n",
    "\n",
    "We will try out these three ensemble methods for spam classification (data [here](https://archive.ics.uci.edu/ml/datasets/Spambase))."
   ]
  },
  {
   "cell_type": "code",
   "execution_count": 1,
   "metadata": {
    "slideshow": {
     "slide_type": "-"
    }
   },
   "outputs": [
    {
     "name": "stdout",
     "output_type": "stream",
     "text": [
      "Populating the interactive namespace from numpy and matplotlib\n"
     ]
    }
   ],
   "source": [
    "from pandas import Series, DataFrame\n",
    "import pandas as pd\n",
    "from patsy import dmatrices\n",
    "%pylab inline\n",
    "import warnings\n",
    "warnings.filterwarnings('ignore')"
   ]
  },
  {
   "cell_type": "code",
   "execution_count": 2,
   "metadata": {
    "slideshow": {
     "slide_type": "-"
    }
   },
   "outputs": [],
   "source": [
    "from sklearn import tree\n",
    "from sklearn.ensemble import BaggingClassifier, RandomForestClassifier, GradientBoostingClassifier"
   ]
  },
  {
   "cell_type": "code",
   "execution_count": 3,
   "metadata": {
    "slideshow": {
     "slide_type": "slide"
    }
   },
   "outputs": [],
   "source": [
    "names = ['word_freq_make', 'word_freq_address', 'word_freq_all', 'word_freq_3d', 'word_freq_our',\n",
    "         'word_freq_over', 'word_freq_remove', 'word_freq_internet', 'word_freq_order', 'word_freq_mail',\n",
    "         'word_freq_receive', 'word_freq_will', 'word_freq_people', 'word_freq_report', 'word_freq_addresses',\n",
    "         'word_freq_free', 'word_freq_business', 'word_freq_email', 'word_freq_you', 'word_freq_credit',\n",
    "         'word_freq_your', 'word_freq_font', 'word_freq_000', 'word_freq_money', 'word_freq_hp', 'word_freq_hpl',\n",
    "         'word_freq_george', 'word_freq_650', 'word_freq_lab', 'word_freq_labs', 'word_freq_telnet',\n",
    "         'word_freq_857', 'word_freq_data', 'word_freq_415', 'word_freq_85', 'word_freq_technology',\n",
    "         'word_freq_1999', 'word_freq_parts', 'word_freq_pm', 'word_freq_direct', 'word_freq_cs',\n",
    "         'word_freq_meeting', 'word_freq_original', 'word_freq_project', 'word_freq_re', 'word_freq_edu',\n",
    "         'word_freq_table', 'word_freq_conference', 'char_freq_;', 'char_freq_(', 'char_freq_[', 'char_freq_!',\n",
    "         'char_freq_$', 'char_freq_#', 'capital_run_length_average', 'capital_run_length_longest',\n",
    "         'capital_run_length_total', 'is_spam']\n",
    "df = pd.read_csv('Classification_5_data/spambase.csv', header=None, names=names)"
   ]
  },
  {
   "cell_type": "code",
   "execution_count": 4,
   "metadata": {
    "slideshow": {
     "slide_type": "slide"
    }
   },
   "outputs": [
    {
     "data": {
      "text/plain": [
       "word_freq_make                  0.000\n",
       "word_freq_address               0.640\n",
       "word_freq_all                   0.640\n",
       "word_freq_3d                    0.000\n",
       "word_freq_our                   0.320\n",
       "word_freq_over                  0.000\n",
       "word_freq_remove                0.000\n",
       "word_freq_internet              0.000\n",
       "word_freq_order                 0.000\n",
       "word_freq_mail                  0.000\n",
       "word_freq_receive               0.000\n",
       "word_freq_will                  0.640\n",
       "word_freq_people                0.000\n",
       "word_freq_report                0.000\n",
       "word_freq_addresses             0.000\n",
       "word_freq_free                  0.320\n",
       "word_freq_business              0.000\n",
       "word_freq_email                 1.290\n",
       "word_freq_you                   1.930\n",
       "word_freq_credit                0.000\n",
       "word_freq_your                  0.960\n",
       "word_freq_font                  0.000\n",
       "word_freq_000                   0.000\n",
       "word_freq_money                 0.000\n",
       "word_freq_hp                    0.000\n",
       "word_freq_hpl                   0.000\n",
       "word_freq_george                0.000\n",
       "word_freq_650                   0.000\n",
       "word_freq_lab                   0.000\n",
       "word_freq_labs                  0.000\n",
       "word_freq_telnet                0.000\n",
       "word_freq_857                   0.000\n",
       "word_freq_data                  0.000\n",
       "word_freq_415                   0.000\n",
       "word_freq_85                    0.000\n",
       "word_freq_technology            0.000\n",
       "word_freq_1999                  0.000\n",
       "word_freq_parts                 0.000\n",
       "word_freq_pm                    0.000\n",
       "word_freq_direct                0.000\n",
       "word_freq_cs                    0.000\n",
       "word_freq_meeting               0.000\n",
       "word_freq_original              0.000\n",
       "word_freq_project               0.000\n",
       "word_freq_re                    0.000\n",
       "word_freq_edu                   0.000\n",
       "word_freq_table                 0.000\n",
       "word_freq_conference            0.000\n",
       "char_freq_;                     0.000\n",
       "char_freq_(                     0.000\n",
       "char_freq_[                     0.000\n",
       "char_freq_!                     0.778\n",
       "char_freq_$                     0.000\n",
       "char_freq_#                     0.000\n",
       "capital_run_length_average      3.756\n",
       "capital_run_length_longest     61.000\n",
       "capital_run_length_total      278.000\n",
       "is_spam                         1.000\n",
       "Name: 0, dtype: float64"
      ]
     },
     "execution_count": 4,
     "metadata": {},
     "output_type": "execute_result"
    }
   ],
   "source": [
    "df.iloc[0]"
   ]
  },
  {
   "cell_type": "markdown",
   "metadata": {
    "slideshow": {
     "slide_type": "slide"
    }
   },
   "source": [
    "### Create formula for design matrices"
   ]
  },
  {
   "cell_type": "code",
   "execution_count": 5,
   "metadata": {
    "slideshow": {
     "slide_type": "fragment"
    }
   },
   "outputs": [
    {
     "name": "stdout",
     "output_type": "stream",
     "text": [
      "is_spam ~ Q(\"word_freq_make\") + Q(\"word_freq_address\") + Q(\"word_freq_all\") + Q(\"word_freq_3d\") + Q(\"word_freq_our\") + Q(\"word_freq_over\") + Q(\"word_freq_remove\") + Q(\"word_freq_internet\") + Q(\"word_freq_order\") + Q(\"word_freq_mail\") + Q(\"word_freq_receive\") + Q(\"word_freq_will\") + Q(\"word_freq_people\") + Q(\"word_freq_report\") + Q(\"word_freq_addresses\") + Q(\"word_freq_free\") + Q(\"word_freq_business\") + Q(\"word_freq_email\") + Q(\"word_freq_you\") + Q(\"word_freq_credit\") + Q(\"word_freq_your\") + Q(\"word_freq_font\") + Q(\"word_freq_000\") + Q(\"word_freq_money\") + Q(\"word_freq_hp\") + Q(\"word_freq_hpl\") + Q(\"word_freq_george\") + Q(\"word_freq_650\") + Q(\"word_freq_lab\") + Q(\"word_freq_labs\") + Q(\"word_freq_telnet\") + Q(\"word_freq_857\") + Q(\"word_freq_data\") + Q(\"word_freq_415\") + Q(\"word_freq_85\") + Q(\"word_freq_technology\") + Q(\"word_freq_1999\") + Q(\"word_freq_parts\") + Q(\"word_freq_pm\") + Q(\"word_freq_direct\") + Q(\"word_freq_cs\") + Q(\"word_freq_meeting\") + Q(\"word_freq_original\") + Q(\"word_freq_project\") + Q(\"word_freq_re\") + Q(\"word_freq_edu\") + Q(\"word_freq_table\") + Q(\"word_freq_conference\") + Q(\"char_freq_;\") + Q(\"char_freq_(\") + Q(\"char_freq_[\") + Q(\"char_freq_!\") + Q(\"char_freq_$\") + Q(\"char_freq_#\") + Q(\"capital_run_length_average\") + Q(\"capital_run_length_longest\") + Q(\"capital_run_length_total\")\n"
     ]
    }
   ],
   "source": [
    "formula = 'is_spam ~ ' + ' + '.join(['Q(\"'+x+'\")' \\\n",
    "                                    for x in df.columns.values\\\n",
    "                                    if x != 'is_spam'])\n",
    "print(formula)"
   ]
  },
  {
   "cell_type": "markdown",
   "metadata": {
    "slideshow": {
     "slide_type": "fragment"
    }
   },
   "source": [
    "The **Q()** function stands for _quoting_, and is necessary when you have features like **char\\_freq\\_(**, in which the parenthesis throws off the _dmatrices()_ function. **Q(\"char\\_freq\\_(\")** tells Python to consider the entire thing as a string."
   ]
  },
  {
   "cell_type": "markdown",
   "metadata": {
    "slideshow": {
     "slide_type": "slide"
    }
   },
   "source": [
    "## Create design matrices"
   ]
  },
  {
   "cell_type": "code",
   "execution_count": 6,
   "metadata": {
    "slideshow": {
     "slide_type": "-"
    }
   },
   "outputs": [],
   "source": [
    "Y, X = dmatrices(formula, df, return_type='dataframe')\n",
    "y = Y['is_spam'].values"
   ]
  },
  {
   "cell_type": "markdown",
   "metadata": {
    "slideshow": {
     "slide_type": "fragment"
    }
   },
   "source": [
    "## Create training and testing sets"
   ]
  },
  {
   "cell_type": "code",
   "execution_count": 7,
   "metadata": {
    "slideshow": {
     "slide_type": "fragment"
    }
   },
   "outputs": [],
   "source": [
    "from sklearn.model_selection import train_test_split\n",
    "X_train, X_test, y_train, y_test = train_test_split(X, y,\n",
    "                                                    test_size=0.3,\n",
    "                                                    random_state=1)"
   ]
  },
  {
   "cell_type": "markdown",
   "metadata": {
    "slideshow": {
     "slide_type": "slide"
    }
   },
   "source": [
    "## Set up all the classifiers"
   ]
  },
  {
   "cell_type": "code",
   "execution_count": 8,
   "metadata": {},
   "outputs": [],
   "source": [
    "# All the models we want to test out\n",
    "models = {}\n",
    "models['Decision Tree'] = \\\n",
    "    tree.DecisionTreeClassifier(criterion='entropy')\n",
    "\n",
    "models['Bagging'] = \\\n",
    "    BaggingClassifier(\n",
    "        tree.DecisionTreeClassifier(criterion='entropy'),\n",
    "        random_state=1)\n",
    "\n",
    "models['Random Forest'] = \\\n",
    "    RandomForestClassifier(n_estimators=10,\n",
    "                           random_state=1)\n",
    "\n",
    "models['Gradient Boosting'] = \\\n",
    "    GradientBoostingClassifier(n_estimators=200,\n",
    "                               max_depth=4,\n",
    "                               random_state=1)"
   ]
  },
  {
   "cell_type": "markdown",
   "metadata": {
    "slideshow": {
     "slide_type": "slide"
    }
   },
   "source": [
    "## Fit the models"
   ]
  },
  {
   "cell_type": "code",
   "execution_count": 9,
   "metadata": {},
   "outputs": [
    {
     "name": "stdout",
     "output_type": "stream",
     "text": [
      "Fitting Decision Tree\n",
      "Fitting Bagging\n",
      "Fitting Random Forest\n",
      "Fitting Gradient Boosting\n"
     ]
    }
   ],
   "source": [
    "for name, model in models.items():\n",
    "    print('Fitting', name)\n",
    "    model.fit(X_train, y_train)"
   ]
  },
  {
   "cell_type": "markdown",
   "metadata": {
    "slideshow": {
     "slide_type": "slide"
    }
   },
   "source": [
    "## Accuracy scores"
   ]
  },
  {
   "cell_type": "code",
   "execution_count": 10,
   "metadata": {},
   "outputs": [
    {
     "data": {
      "text/html": [
       "<div>\n",
       "<style scoped>\n",
       "    .dataframe tbody tr th:only-of-type {\n",
       "        vertical-align: middle;\n",
       "    }\n",
       "\n",
       "    .dataframe tbody tr th {\n",
       "        vertical-align: top;\n",
       "    }\n",
       "\n",
       "    .dataframe thead th {\n",
       "        text-align: right;\n",
       "    }\n",
       "</style>\n",
       "<table border=\"1\" class=\"dataframe\">\n",
       "  <thead>\n",
       "    <tr style=\"text-align: right;\">\n",
       "      <th></th>\n",
       "      <th>Training Accuracy</th>\n",
       "      <th>Test Accuracy</th>\n",
       "    </tr>\n",
       "  </thead>\n",
       "  <tbody>\n",
       "    <tr>\n",
       "      <th>Decision Tree</th>\n",
       "      <td>0.999689</td>\n",
       "      <td>0.927589</td>\n",
       "    </tr>\n",
       "    <tr>\n",
       "      <th>Bagging</th>\n",
       "      <td>0.995963</td>\n",
       "      <td>0.947864</td>\n",
       "    </tr>\n",
       "    <tr>\n",
       "      <th>Random Forest</th>\n",
       "      <td>0.995963</td>\n",
       "      <td>0.946416</td>\n",
       "    </tr>\n",
       "    <tr>\n",
       "      <th>Gradient Boosting</th>\n",
       "      <td>0.987888</td>\n",
       "      <td>0.957277</td>\n",
       "    </tr>\n",
       "  </tbody>\n",
       "</table>\n",
       "</div>"
      ],
      "text/plain": [
       "                   Training Accuracy  Test Accuracy\n",
       "Decision Tree               0.999689       0.927589\n",
       "Bagging                     0.995963       0.947864\n",
       "Random Forest               0.995963       0.946416\n",
       "Gradient Boosting           0.987888       0.957277"
      ]
     },
     "execution_count": 10,
     "metadata": {},
     "output_type": "execute_result"
    }
   ],
   "source": [
    "from sklearn import metrics\n",
    "\n",
    "accuracy_train = {}\n",
    "accuracy_test = {}\n",
    "for name, model in models.items():\n",
    "    prediction_train = model.predict(X_train)\n",
    "    accuracy_train[name] = metrics.accuracy_score(y_train, prediction_train)\n",
    "    prediction_test = model.predict(X_test)\n",
    "    accuracy_test[name] = metrics.accuracy_score(y_test, prediction_test)\n",
    "    \n",
    "df = DataFrame({'Training Accuracy':accuracy_train, 'Test Accuracy':accuracy_test})\n",
    "df"
   ]
  },
  {
   "cell_type": "markdown",
   "metadata": {},
   "source": [
    "All the classifiers (except perhaps Gradient Boosted Decision Trees) seem to overfit; their training accuracy is much higher than their test accuracy."
   ]
  },
  {
   "cell_type": "markdown",
   "metadata": {
    "slideshow": {
     "slide_type": "slide"
    }
   },
   "source": [
    "How does accuracy of gradient boosting depend on the number of trees and their depth?"
   ]
  },
  {
   "cell_type": "code",
   "execution_count": 11,
   "metadata": {},
   "outputs": [
    {
     "data": {
      "text/plain": [
       "Text(0, 0.5, 'Test accuracy')"
      ]
     },
     "execution_count": 11,
     "metadata": {},
     "output_type": "execute_result"
    },
    {
     "data": {
      "image/png": "[encoded data removed]",
      "text/plain": [
       "<Figure size 432x288 with 1 Axes>"
      ]
     },
     "metadata": {
      "needs_background": "light"
     },
     "output_type": "display_data"
    }
   ],
   "source": [
    "scores = {}\n",
    "for num_trees in [50, 100, 200, 300, 400]:\n",
    "    model = GradientBoostingClassifier(n_estimators=num_trees,\n",
    "                                       max_depth=2,\n",
    "                                       random_state=1)\n",
    "    model.fit(X_train, y_train)\n",
    "    prediction_test = model.predict(X_test)\n",
    "    accuracy_test = metrics.accuracy_score(y_test, prediction_test)\n",
    "    scores[num_trees] = accuracy_test\n",
    "Series(scores).sort_index().plot()\n",
    "xlabel('Number of trees in ensemble')\n",
    "ylabel('Test accuracy')"
   ]
  },
  {
   "cell_type": "markdown",
   "metadata": {},
   "source": [
    "200 trees seem to be enough."
   ]
  },
  {
   "cell_type": "markdown",
   "metadata": {
    "slideshow": {
     "slide_type": "slide"
    }
   },
   "source": [
    "How about the depth of the trees?"
   ]
  },
  {
   "cell_type": "code",
   "execution_count": 12,
   "metadata": {},
   "outputs": [
    {
     "data": {
      "text/plain": [
       "Text(0, 0.5, 'Test accuracy')"
      ]
     },
     "execution_count": 12,
     "metadata": {},
     "output_type": "execute_result"
    },
    {
     "data": {
      "image/png": "[encoded data removed]",
      "text/plain": [
       "<Figure size 432x288 with 1 Axes>"
      ]
     },
     "metadata": {
      "needs_background": "light"
     },
     "output_type": "display_data"
    }
   ],
   "source": [
    "scores = {}\n",
    "for depth in range(1, 11):\n",
    "    model = GradientBoostingClassifier(n_estimators=200,\n",
    "                                       max_depth=depth,\n",
    "                                       random_state=1)\n",
    "    model.fit(X_train, y_train)\n",
    "    prediction_test = model.predict(X_test)\n",
    "    accuracy_test = metrics.accuracy_score(y_test, prediction_test)\n",
    "    scores[depth] = accuracy_test\n",
    "Series(scores).sort_index().plot()\n",
    "xlabel('Depth of trees in ensemble')\n",
    "ylabel('Test accuracy')"
   ]
  },
  {
   "cell_type": "markdown",
   "metadata": {},
   "source": [
    "Trees of depth 3 seem to be enough."
   ]
  },
  {
   "cell_type": "code",
   "execution_count": 13,
   "metadata": {
    "slideshow": {
     "slide_type": "slide"
    }
   },
   "outputs": [
    {
     "data": {
      "image/png": "[encoded data removed]",
      "text/plain": [
       "<Figure size 432x288 with 1 Axes>"
      ]
     },
     "metadata": {
      "needs_background": "light"
     },
     "output_type": "display_data"
    }
   ],
   "source": [
    "from sklearn.metrics import precision_recall_curve\n",
    "\n",
    "for index, (name, model) in enumerate(models.items()):\n",
    "    predictions = model.predict_proba(X_test)\n",
    "    precision, recall, thresholds = precision_recall_curve(y_test, predictions[:, 1])\n",
    "    plot(recall, precision, label=name)\n",
    "\n",
    "xlabel('Recall')\n",
    "ylabel('Precision')\n",
    "legend(loc='best')\n",
    "savefig('Classification_5_data/precrec.png')"
   ]
  }
 ],
 "metadata": {
  "anaconda-cloud": {},
  "celltoolbar": "Slideshow",
  "kernelspec": {
   "display_name": "Python 3 (ipykernel)",
   "language": "python",
   "name": "python3"
  },
  "language_info": {
   "codemirror_mode": {
    "name": "ipython",
    "version": 3
   },
   "file_extension": ".py",
   "mimetype": "text/x-python",
   "name": "python",
   "nbconvert_exporter": "python",
   "pygments_lexer": "ipython3",
   "version": "3.7.13"
  }
 },
 "nbformat": 4,
 "nbformat_minor": 1
}
